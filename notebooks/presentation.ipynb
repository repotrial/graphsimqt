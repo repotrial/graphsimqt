{
 "cells": [
  {
   "cell_type": "markdown",
   "id": "enormous-berlin",
   "metadata": {
    "slideshow": {
     "slide_type": "slide"
    }
   },
   "source": [
    "# On the foundations of network-based drug repurposing"
   ]
  },
  {
   "cell_type": "markdown",
   "id": "anonymous-wedding",
   "metadata": {
    "slideshow": {
     "slide_type": "slide"
    }
   },
   "source": [
    "## The paradigm of network-based drug reporpusing (NetDR)\n",
    "\n",
    "1. Construct **heterogenoeus disease-gene-protein-drug networks**.\n",
    "    - **Disease-gene** edges indicate disease-gene associations.\n",
    "    - **Gene-protein** edges indicate that a protein is encoded by a gene.\n",
    "    - **Disease-protein** edges indicate that a protein in encoded by a gene associated with a disease.\n",
    "    - **Drug-protein** edges indicate that a drug targets a protein.\n",
    "    - **Protein-protein** edges indicate PPIs.\n",
    "    - **Gene-gene** edges indicate that the encoded proteins interact.\n",
    "\n",
    "\n",
    "2. Suggest **drug repurposing candidates** $C$ for disease $D$ such that:\n",
    "    - Drug $C$ targets a proteins which is (close to a protein) associated with disease $D$.\n",
    "    - Drug $C$ is indicated for a disease $D^\\prime$ which is close to disease $D$."
   ]
  },
  {
   "cell_type": "markdown",
   "id": "silent-sheet",
   "metadata": {
    "slideshow": {
     "slide_type": "slide"
    }
   },
   "source": [
    "## Background\n",
    "\n",
    "- NetDR is **intuitively appealing** because it leverages **molecular disease profiles** for drug prediction.\n",
    "- **However:** The underlying **data cannot necessarily be trusted**: literature bias in PPI networks, possibly misleading symptom- or organ-based disease ontologies, etc.\n",
    "\n",
    "## Research question\n",
    "\n",
    "- Is there a **data-informed foundation** for NetDR **beyond its intuitive appeal**? \n",
    "- Is there **systematic evidence** in the data which would lend **prior plausibility** to drug-repurposing candidates generated via NetDR?"
   ]
  },
  {
   "cell_type": "markdown",
   "id": "infinite-evaluation",
   "metadata": {
    "slideshow": {
     "slide_type": "slide"
    }
   },
   "source": [
    "## Overall approach\n",
    "\n",
    "- Compare heterogeneous networks used by NetDR with three **reference networks**:\n",
    "    - A **disease-disease network**, where edges indicate **comorbidity** and are attributed with the $\\phi$-correlation.\n",
    "    - A **disease-disease network**, where edges indicate that there is at least one drug indicated for both diseases and edges are attributed with the Jaccard index over the **shared drugs**.\n",
    "    - A **drug-drug network**, where edges indicate that there is at least one common indication and edges are attributed with the Jaccard index over the **shared indications**."
   ]
  },
  {
   "cell_type": "markdown",
   "id": "hollow-bottle",
   "metadata": {
    "slideshow": {
     "slide_type": "slide"
    }
   },
   "source": [
    "## Distances vs. reference networks: test protocol (I)\n",
    "\n",
    "### Disease view\n",
    "\n",
    "1. For all disease pairs $(D_1,D_2)$, compute **shortest-path distances** in network with **disease-gene** and **gene-gene** edges (ignoring all disease nodes except $D_1$ and $D_2$ such that the path from $D_1$ to $D_2$ contains only genes as inner nodes).\n",
    "2. Relate the obtained distances to **comorbidity data** (binary and $\\phi$-correlation) and **shared drug indications** (binary and Jaccard index).\n",
    "\n",
    "### Drug view\n",
    "\n",
    "1. For all drug pairs $(D_1,D_2)$, compute **shortest-path distances** in network with **drug-protein** and **protein-protein** edges (ignoring all drug nodes except $D_1$ and $D_2$).\n",
    "2. Relate the obtained distances to **shared indications** (binary and Jaccard index)."
   ]
  },
  {
   "cell_type": "markdown",
   "id": "gothic-estonia",
   "metadata": {
    "slideshow": {
     "slide_type": "slide"
    }
   },
   "source": [
    "## Distances vs. reference networks: test protocol (II)\n",
    "\n",
    "### Alternative hypotheses for disease view\n",
    "\n",
    "- Distances for disease pairs with comorbidity edges or shared drug edges are **significantly shorter** than distances for disease pairs without such edges.\n",
    "- The distances are **negatively associated** with the $\\phi$-correlation and the Jaccard index.\n",
    "\n",
    "### Alternative hypotheses for drug view\n",
    "\n",
    "- Distances for drug pairs with shared indication edges are **significantly shorter** than distances for drug pairs without such edges.\n",
    "- The distances are **negatively associated** with the Jaccard index."
   ]
  },
  {
   "cell_type": "markdown",
   "id": "metropolitan-combining",
   "metadata": {
    "slideshow": {
     "slide_type": "slide"
    }
   },
   "source": [
    "## Distances vs. reference networks: reference edge vs. no reference edge\n",
    "\n",
    "<img src=\"distances_vs_reference_edges.png\">\n",
    "\n",
    "**Null-hypothesis rejected:** Distances for disease pairs with comorbidity edges or shared drug edges are significantly shorter."
   ]
  },
  {
   "cell_type": "markdown",
   "id": "textile-kingston",
   "metadata": {},
   "source": [
    "## Distances vs. reference data: reference edges scores\n",
    "\n",
    "<img src=\"distances_vs_reference_scores.png\" width=\"1200\">\n",
    "\n",
    "**Null-hypothesis rejected:** The distances are negatively associated with the $\\phi$-correlation and the Jaccard index."
   ]
  },
  {
   "cell_type": "markdown",
   "id": "earned-drama",
   "metadata": {
    "slideshow": {
     "slide_type": "slide"
    }
   },
   "source": [
    "## Similarities with reference networks: test protocol (I)"
   ]
  },
  {
   "cell_type": "markdown",
   "id": "established-agenda",
   "metadata": {
    "slideshow": {
     "slide_type": "slide"
    }
   },
   "source": [
    "## Similarities with reference networks: global distances\n",
    "\n",
    "<img src=\"difference_global_distances.png\">\n",
    "\n",
    "**Null-hypotheses rejected:** For all network pairs and all distance types, the **global distances for the real networks were always smaller** than the distances for the randomized counterparts."
   ]
  },
  {
   "cell_type": "markdown",
   "id": "aquatic-trauma",
   "metadata": {
    "slideshow": {
     "slide_type": "slide"
    }
   },
   "source": [
    "## Similarities with reference networks: global view on local distances\n",
    "\n",
    "<img src=\"local_distances.png\">\n",
    "\n",
    "**Null-hypotheses rejected only for drug-drug network and normalized rank distance in comparison agains comorbiditome:** For all other network pairs and all distance types, the **local distances for the real networks were not significantly smaller** than the distances for the randomized counterparts."
   ]
  },
  {
   "cell_type": "markdown",
   "id": "colonial-processing",
   "metadata": {
    "slideshow": {
     "slide_type": "slide"
    }
   },
   "source": [
    "## Similarities with reference networks: local view on local distances\n",
    "\n",
    "<img src=\"local_empirical_p_values.png\">\n",
    "\n",
    "**Null-hypotheses rejected for less than 50 % of nodes:** Even without adjustment, the local empirical $p$-values **reached the 0.05 threshold only for 46.29 %** of all nodes."
   ]
  },
  {
   "cell_type": "markdown",
   "id": "failing-apollo",
   "metadata": {
    "slideshow": {
     "slide_type": "slide"
    }
   },
   "source": [
    "## Conclusions\n",
    "\n",
    "- **Globally**, the heterogeneous networks used in NetDR clearly mirror the information contained in independent reference networks based on comorbidities and shared drug-disease indications.\n",
    "- Hence, we have shown that **NetDR does have a data-informed foundation** beyond its intuitive appeal and that the obtained candidate drugs **do have prior plausibility**.\n",
    "- **However:** If we zoom-in on individual diseases or drugs, the correlation with the reference networks is often no longer visible.\n",
    "- Consequently, **individual predictions must always be scrutinized** for plausibility **by domain experts**.\n",
    "- Hence, user-friendly **expert-in-the-loop** solutions are indespensable in NetDR."
   ]
  }
 ],
 "metadata": {
  "celltoolbar": "Slideshow",
  "kernelspec": {
   "display_name": "diseasomes",
   "language": "python",
   "name": "diseasomes"
  },
  "language_info": {
   "codemirror_mode": {
    "name": "ipython",
    "version": 3
   },
   "file_extension": ".py",
   "mimetype": "text/x-python",
   "name": "python",
   "nbconvert_exporter": "python",
   "pygments_lexer": "ipython3",
   "version": "3.9.2"
  }
 },
 "nbformat": 4,
 "nbformat_minor": 5
}
