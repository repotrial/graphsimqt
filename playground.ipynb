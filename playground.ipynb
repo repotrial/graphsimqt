{
 "cells": [
  {
   "cell_type": "markdown",
   "id": "vertical-board",
   "metadata": {},
   "source": [
    "# Scarce evidence for non-random correlation between gene- and comorbidity-based disease networks"
   ]
  },
  {
   "cell_type": "code",
   "execution_count": 2,
   "id": "geographic-aside",
   "metadata": {},
   "outputs": [],
   "source": [
    "%matplotlib inline\n",
    "import pandas as pd\n",
    "import seaborn as sns\n",
    "import itertools as itt\n",
    "import json\n",
    "import matplotlib.pyplot as plt\n",
    "import graph_tool as gt\n",
    "import graph_tool.stats as gts"
   ]
  },
  {
   "cell_type": "code",
   "execution_count": 8,
   "id": "british-graphics",
   "metadata": {},
   "outputs": [],
   "source": [
    "def adjust_titles(fig):\n",
    "    with open('data/icd10_chapter_to_description.json') as fp:\n",
    "        chapter_to_description = json.load(fp)\n",
    "    for axis in fig.axes.flatten():\n",
    "        chapter = axis.get_title().split(' = ')[1]\n",
    "        axis.set_title('')\n",
    "        if chapter == 'Global':\n",
    "            title = chapter\n",
    "        else:\n",
    "            title = chapter_to_description[chapter]\n",
    "        if len(title) > 50:\n",
    "            words = title.split(' ')\n",
    "            title=''\n",
    "            length_line = 0\n",
    "            for word in words:\n",
    "                if title == '':\n",
    "                    title = word\n",
    "                    length_line = len(word)\n",
    "                elif length_line + len(word) + 1 <= 50:\n",
    "                    title = f'{title} {word}'\n",
    "                    length_line += 1 + len(word)\n",
    "                else:\n",
    "                    title = f\"{title}\\n{word}\"\n",
    "                    length_line = len(word)  \n",
    "        axis.set_title(title, loc='left')\n",
    "    fig.fig.tight_layout()"
   ]
  },
  {
   "cell_type": "markdown",
   "id": "paperback-shade",
   "metadata": {},
   "source": [
    "## Methods\n",
    "\n",
    "### Gene-based diseasome\n",
    "\n",
    "- Constructed by Sepi based on DisGeNET and OMIM.\n",
    "- Undirected edges are weighted with Jaccard index:\n",
    "\n",
    "$$w_{ij}=J(d_id_j)=\\frac{|\\mathit{genes}(d_i)\\cap\\mathit{genes}(d_j)|}{|\\mathit{genes}(d_i)\\cup\\mathit{genes}(d_j)|}$$\n",
    "\n",
    "### Comorbidity-based diseasome\n",
    "\n",
    "- Taken from [Siggaard et al. (2020)](https://www.nature.com/articles/s41467-020-18682-4) (Supplementary Data 1).\n",
    "- Directed edges are weighted with customized relative risk: $$w_{i,j}=\\mathit{RR}(d_i,d_j)=\\frac{10000\\cdot|\\{s\\in P_i\\mid\\text{patient $s$ has disease $d_j$}\\}|}{\\sum_{s\\in P_i}|\\{s^\\prime\\in M_s\\mid\\text{patient $s^\\prime$ has disease $d_j$}\\}|}\\text{, where}$$\n",
    "- $P_i$ is set of all patients with disease $d_i$.\n",
    "- For all $s\\in P_i$, $M_s$ is matched set of $10000$ patients.\n",
    "- To derive an undirected version, we set $w_{ij}=\\mathit{RR}(d_id_j)=(\\mathit{RR}(d_i,d_j)+\\mathit{RR}(d_j,d_i))/2$ whenever both the edge $(d_i,d_j)$ and the edge $(d_j,d_i)$ exist in the network.\n",
    "\n",
    "### Network integration\n",
    "\n",
    "- Discard all diseases that are contained in only one of the two networks.\n",
    "- $\\Longrightarrow$ Keep set $D$ of diseases contained in both.\n",
    "- Compute normalized edge weights as follows: $$\\hat{w}_{ij}=\\frac{w_{ij}}{\\max_{ij\\in E}w_{ij}}$$\n",
    "- Compute normalized edge ranks as follows: $$\\hat{r}_{ij}=\\frac{|\\{d_{i^\\prime}d_{j^\\prime}\\in E\\mid w_{i^\\prime j^\\prime}<w_{ij}\\}|}{|E|}$$\n",
    "- $\\Longrightarrow$ Both the normalized weights and the normalized weights are comparable.\n",
    "\n",
    "### Compare networks via graph edit distance\n",
    "\n",
    "- Let $G^g=(D,E^g)$ be gene-based diseasome and $G^c=(D,E^c)$be comorbidity-based diseasome.\n",
    "- Compare diseasomes via graph edit distance (GED) using, respectively, topology only, normalized weights, and normalized ranks: \n",
    "$$\n",
    "\\begin{align}\n",
    "\\mathrm{GED}(G^g,H^g)&=\\overbrace{\\sum_{d_id_j\\in E^g\\cap E^h}|s^g_{ij}-s^c_{ij}|+\\sum_{d_id_j\\in E^g\\setminus E^h}1 + s^g_{ij}+\\sum_{d_id_j\\in E^h\\setminus E^g}1 + s^h_{ij}}^{\\text{Global distance between the diseasomes $G^g$ and $G^c$.}}\\\\\n",
    "&=\\frac{1}{2}\\cdot\\sum_{d_i\\in D}\\underbrace{\\sum_{d_j\\in N^g_i\\cap N^h_i}|s^g_{ij}-s^c_{ij}|+\\sum_{d_j\\in N^g_i\\setminus E^h_i}1 + s^g_{ij}+\\sum_{d_j\\in E^h_i\\setminus E^g_i}1 + s^h_{ij}}_{\\text{Local distance $\\mathrm{GED}_i(G^g,H^g)$ for disease $D_i$, given the diseasomes $G^g$ and $G^c$.}}\n",
    "\\end{align}\n",
    "$$\n",
    "- Topology only: $s_{ij}=0$.\n",
    "- Normalized weights: $s_{ij}=\\hat{w}_{ij}$.\n",
    "- Normalized ranks: $s_{ij}=\\hat{r}_{ij}$.\n",
    "\n",
    "### Permutation tests\n",
    "\n",
    "- Compute distances between $G^g$ and $G^c$.\n",
    "- Compute distances for $n$ pairs $(\\tilde{G}^g_k,\\tilde{G}^c_k)_{k=1}^n$ of random networks with preserved node degrees, generated with [graph_tool.generation.random_rewire()](https://graph-tool.skewed.de/static/doc/generation.html#graph_tool.generation.random_rewire).\n",
    "- Compute empirical $p$-values for the global networks and the individual diseases:\n",
    "- Global empirical $p$-value for entire networks: $$\\text{$p$-value}=\\frac{|\\{k\\in\\{1,\\ldots,n\\}\\mid\\mathrm{GED}(\\tilde{G}^g_k,\\tilde{G}^c_k)\\leq\\mathrm{GED}(G^g,H^g)\\}|}{n+1}$$\n",
    "- Local empirical $p$-value for disease $D_i$: $$\\text{$p$-value}=\\frac{|\\{k\\in\\{1,\\ldots,n\\}\\mid\\mathrm{GED}_i(\\tilde{G}^g_k,\\tilde{G}^c_k)\\leq\\mathrm{GED}_i(G^g,H^g)\\}|}{n+1}$$\n",
    "- Compute $p$-values for batches of diseases (all diseases, ICD-10 chapters, ICD-10 ranges, commROCG genes):\n",
    "  - Using the **one-sided Mann-Whitney $U$-test**, where one sample contains local distances for the original network and the other one contains local distances for the permuted networks.\n",
    "  - Using the **one-sided Wilcoxon signed-rank test**, where one sample contains local distances for the original network and the other one contains the means of the local distances for the permuted networks across all permutations."
   ]
  },
  {
   "cell_type": "markdown",
   "id": "polish-modern",
   "metadata": {},
   "source": [
    "## Results\n",
    "\n",
    "- Ran permutation tests as described above with $n=1000$ permutations.\n",
    "\n",
    "### Network statistics\n",
    "\n",
    "#### Numbers of nodes and edges"
   ]
  },
  {
   "cell_type": "code",
   "execution_count": 95,
   "id": "color-preliminary",
   "metadata": {},
   "outputs": [
    {
     "data": {
      "text/html": [
       "<div>\n",
       "<style scoped>\n",
       "    .dataframe tbody tr th:only-of-type {\n",
       "        vertical-align: middle;\n",
       "    }\n",
       "\n",
       "    .dataframe tbody tr th {\n",
       "        vertical-align: top;\n",
       "    }\n",
       "\n",
       "    .dataframe thead th {\n",
       "        text-align: right;\n",
       "    }\n",
       "</style>\n",
       "<table border=\"1\" class=\"dataframe\">\n",
       "  <thead>\n",
       "    <tr style=\"text-align: right;\">\n",
       "      <th></th>\n",
       "      <th>type</th>\n",
       "      <th>num_nodes</th>\n",
       "      <th>num_edges</th>\n",
       "    </tr>\n",
       "  </thead>\n",
       "  <tbody>\n",
       "    <tr>\n",
       "      <th>0</th>\n",
       "      <td>gene-based</td>\n",
       "      <td>1006</td>\n",
       "      <td>38692</td>\n",
       "    </tr>\n",
       "    <tr>\n",
       "      <th>1</th>\n",
       "      <td>comorbidity-based</td>\n",
       "      <td>1006</td>\n",
       "      <td>9017</td>\n",
       "    </tr>\n",
       "  </tbody>\n",
       "</table>\n",
       "</div>"
      ],
      "text/plain": [
       "                type  num_nodes  num_edges\n",
       "0         gene-based       1006      38692\n",
       "1  comorbidity-based       1006       9017"
      ]
     },
     "execution_count": 95,
     "metadata": {},
     "output_type": "execute_result"
    }
   ],
   "source": [
    "ji_graph = gt.load_graph('data/normalized_jaccard_index_diseasome.graphml')\n",
    "rr_graph = gt.load_graph('data/normalized_relative_risk_diseasome.graphml')\n",
    "nums_nodes = [ji_graph.num_vertices(), rr_graph.num_vertices()]\n",
    "nums_edges = [ji_graph.num_edges(), rr_graph.num_edges()]\n",
    "network_types = ['gene-based', 'comorbidity-based']\n",
    "network_stats = pd.DataFrame(data={'type': network_types, 'num_nodes': nums_nodes, 'num_edges': nums_edges})\n",
    "network_stats"
   ]
  },
  {
   "cell_type": "markdown",
   "id": "growing-million",
   "metadata": {},
   "source": [
    "#### Degree distribution for gene-based diseasome"
   ]
  },
  {
   "cell_type": "code",
   "execution_count": 106,
   "id": "dynamic-brake",
   "metadata": {},
   "outputs": [
    {
     "data": {
      "image/png": "[encoded data removed]",
      "text/plain": [
       "<Figure size 360x360 with 1 Axes>"
      ]
     },
     "metadata": {
      "needs_background": "light"
     },
     "output_type": "display_data"
    }
   ],
   "source": [
    "ji_degs = ji_graph.get_total_degrees([node for node in ji_graph.vertices()])\n",
    "fig = sns.displot(data=pd.DataFrame({'degree': ji_degs}), x='degree')"
   ]
  },
  {
   "cell_type": "markdown",
   "id": "polar-lawyer",
   "metadata": {},
   "source": [
    "#### Degree distribution for comorbidity-based diseasome"
   ]
  },
  {
   "cell_type": "code",
   "execution_count": 107,
   "id": "acting-stranger",
   "metadata": {},
   "outputs": [
    {
     "data": {
      "text/plain": [
       "<seaborn.axisgrid.FacetGrid at 0x15ffba820>"
      ]
     },
     "execution_count": 107,
     "metadata": {},
     "output_type": "execute_result"
    },
    {
     "data": {
      "image/png": "[encoded data removed]",
      "text/plain": [
       "<Figure size 360x360 with 1 Axes>"
      ]
     },
     "metadata": {
      "needs_background": "light"
     },
     "output_type": "display_data"
    }
   ],
   "source": [
    "rr_degs = rr_graph.get_total_degrees([node for node in rr_graph.vertices()])\n",
    "sns.displot(data=pd.DataFrame({'degree': rr_degs}), x='degree')"
   ]
  },
  {
   "cell_type": "markdown",
   "id": "helpful-warning",
   "metadata": {},
   "source": [
    "#### Normalized Jaccard index and rank distributions for gene-based diseasome"
   ]
  },
  {
   "cell_type": "code",
   "execution_count": 119,
   "id": "gentle-elimination",
   "metadata": {},
   "outputs": [
    {
     "data": {
      "text/plain": [
       "<seaborn.axisgrid.FacetGrid at 0x167f4c2b0>"
      ]
     },
     "execution_count": 119,
     "metadata": {},
     "output_type": "execute_result"
    },
    {
     "data": {
      "image/png": "[encoded data removed]",
      "text/plain": [
       "<Figure size 360x360 with 1 Axes>"
      ]
     },
     "metadata": {
      "needs_background": "light"
     },
     "output_type": "display_data"
    }
   ],
   "source": [
    "ji_norm_scores = [ji_graph.edge_properties['JI-NORM'][edge] for edge in ji_graph.edges()]\n",
    "sns.displot(data=pd.DataFrame({'normalized Jaccard index': ji_norm_scores}), x='normalized Jaccard index')"
   ]
  },
  {
   "cell_type": "code",
   "execution_count": 117,
   "id": "homeless-situation",
   "metadata": {},
   "outputs": [
    {
     "data": {
      "text/plain": [
       "<seaborn.axisgrid.FacetGrid at 0x15ceaa220>"
      ]
     },
     "execution_count": 117,
     "metadata": {},
     "output_type": "execute_result"
    },
    {
     "data": {
      "image/png": "[encoded data removed]",
      "text/plain": [
       "<Figure size 360x360 with 1 Axes>"
      ]
     },
     "metadata": {
      "needs_background": "light"
     },
     "output_type": "display_data"
    }
   ],
   "source": [
    "ji_norm_ranks = [ji_graph.edge_properties['JI-NORM-RANK'][edge] for edge in ji_graph.edges()]\n",
    "sns.displot(data=pd.DataFrame({'normalized rank': ji_norm_ranks}), x='normalized rank')"
   ]
  },
  {
   "cell_type": "markdown",
   "id": "agreed-indie",
   "metadata": {},
   "source": [
    "#### Normalized relative risk and rank distribution for comorbidity-based diseasome"
   ]
  },
  {
   "cell_type": "code",
   "execution_count": 120,
   "id": "selective-middle",
   "metadata": {},
   "outputs": [
    {
     "data": {
      "text/plain": [
       "<seaborn.axisgrid.FacetGrid at 0x15fa1a790>"
      ]
     },
     "execution_count": 120,
     "metadata": {},
     "output_type": "execute_result"
    },
    {
     "data": {
      "image/png": "[encoded data removed]",
      "text/plain": [
       "<Figure size 360x360 with 1 Axes>"
      ]
     },
     "metadata": {
      "needs_background": "light"
     },
     "output_type": "display_data"
    }
   ],
   "source": [
    "rr_norm_scores = [rr_graph.edge_properties['RR-NORM'][edge] for edge in rr_graph.edges()]\n",
    "sns.displot(data=pd.DataFrame({'normalized relative risk': rr_norm_scores}), x='normalized relative risk')"
   ]
  },
  {
   "cell_type": "code",
   "execution_count": 121,
   "id": "yellow-barbados",
   "metadata": {},
   "outputs": [
    {
     "data": {
      "text/plain": [
       "<seaborn.axisgrid.FacetGrid at 0x168d42ca0>"
      ]
     },
     "execution_count": 121,
     "metadata": {},
     "output_type": "execute_result"
    },
    {
     "data": {
      "image/png": "[encoded data removed]",
      "text/plain": [
       "<Figure size 360x360 with 1 Axes>"
      ]
     },
     "metadata": {
      "needs_background": "light"
     },
     "output_type": "display_data"
    }
   ],
   "source": [
    "rr_norm_ranks = [rr_graph.edge_properties['RR-NORM-RANK'][edge] for edge in rr_graph.edges()]\n",
    "sns.displot(data=pd.DataFrame({'normalized rank': rr_norm_ranks}), x='normalized rank')"
   ]
  },
  {
   "cell_type": "markdown",
   "id": "greater-creativity",
   "metadata": {},
   "source": [
    "### Results for global distances\n",
    "\n",
    "#### GEDs for original and permuted networks"
   ]
  },
  {
   "cell_type": "code",
   "execution_count": 4,
   "id": "logical-analysis",
   "metadata": {},
   "outputs": [
    {
     "data": {
      "text/plain": [
       "<seaborn.axisgrid.FacetGrid at 0x10ea709d0>"
      ]
     },
     "execution_count": 4,
     "metadata": {},
     "output_type": "execute_result"
    },
    {
     "data": {
      "image/png": "[encoded data removed]",
      "text/plain": [
       "<Figure size 421.25x360 with 1 Axes>"
      ]
     },
     "metadata": {
      "needs_background": "light"
     },
     "output_type": "display_data"
    }
   ],
   "source": [
    "results = pd.read_csv('results/permutation_results.csv')\n",
    "sns.catplot(data=results[results['comparison'] == 'global'], x='distance_type', y='distance', hue='permuted')"
   ]
  },
  {
   "cell_type": "markdown",
   "id": "productive-joshua",
   "metadata": {},
   "source": [
    "#### Empirical p-values for global distances"
   ]
  },
  {
   "cell_type": "code",
   "execution_count": 177,
   "id": "particular-racing",
   "metadata": {},
   "outputs": [
    {
     "data": {
      "text/html": [
       "<div>\n",
       "<style scoped>\n",
       "    .dataframe tbody tr th:only-of-type {\n",
       "        vertical-align: middle;\n",
       "    }\n",
       "\n",
       "    .dataframe tbody tr th {\n",
       "        vertical-align: top;\n",
       "    }\n",
       "\n",
       "    .dataframe thead th {\n",
       "        text-align: right;\n",
       "    }\n",
       "</style>\n",
       "<table border=\"1\" class=\"dataframe\">\n",
       "  <thead>\n",
       "    <tr style=\"text-align: right;\">\n",
       "      <th></th>\n",
       "      <th>comparison</th>\n",
       "      <th>distance_type</th>\n",
       "      <th>p_value</th>\n",
       "      <th>chapter</th>\n",
       "      <th>range</th>\n",
       "    </tr>\n",
       "  </thead>\n",
       "  <tbody>\n",
       "    <tr>\n",
       "      <th>2682</th>\n",
       "      <td>global</td>\n",
       "      <td>normalized_scores</td>\n",
       "      <td>0.000999</td>\n",
       "      <td>Global</td>\n",
       "      <td>Global</td>\n",
       "    </tr>\n",
       "    <tr>\n",
       "      <th>2683</th>\n",
       "      <td>global</td>\n",
       "      <td>topology_only</td>\n",
       "      <td>0.000999</td>\n",
       "      <td>Global</td>\n",
       "      <td>Global</td>\n",
       "    </tr>\n",
       "    <tr>\n",
       "      <th>2684</th>\n",
       "      <td>global</td>\n",
       "      <td>normalized_ranks</td>\n",
       "      <td>0.000999</td>\n",
       "      <td>Global</td>\n",
       "      <td>Global</td>\n",
       "    </tr>\n",
       "  </tbody>\n",
       "</table>\n",
       "</div>"
      ],
      "text/plain": [
       "     comparison      distance_type   p_value chapter   range\n",
       "2682     global  normalized_scores  0.000999  Global  Global\n",
       "2683     global      topology_only  0.000999  Global  Global\n",
       "2684     global   normalized_ranks  0.000999  Global  Global"
      ]
     },
     "execution_count": 177,
     "metadata": {},
     "output_type": "execute_result"
    }
   ],
   "source": [
    "empirical_p_values = pd.read_csv('results/empirical_p_values.csv')\n",
    "empirical_p_values[empirical_p_values['comparison'] == 'global']"
   ]
  },
  {
   "cell_type": "markdown",
   "id": "violent-snapshot",
   "metadata": {},
   "source": [
    "- **$\\Longrightarrow$ Globally, there seems to be a non-random correlation.**"
   ]
  },
  {
   "cell_type": "markdown",
   "id": "official-beach",
   "metadata": {},
   "source": [
    "### Results for local, disease-specific distances\n",
    "\n",
    "#### Distributions of local distances for original and permuted networks"
   ]
  },
  {
   "cell_type": "code",
   "execution_count": 6,
   "id": "english-commitment",
   "metadata": {},
   "outputs": [
    {
     "data": {
      "text/plain": [
       "<seaborn.axisgrid.FacetGrid at 0x168cd7ee0>"
      ]
     },
     "execution_count": 6,
     "metadata": {},
     "output_type": "execute_result"
    },
    {
     "data": {
      "image/png": "[encoded data removed]",
      "text/plain": [
       "<Figure size 421.25x360 with 1 Axes>"
      ]
     },
     "metadata": {
      "needs_background": "light"
     },
     "output_type": "display_data"
    }
   ],
   "source": [
    "sns.catplot(data=results[results['comparison'] != 'global'], x='distance_type', y='distance', hue='permuted', kind='box')"
   ]
  },
  {
   "cell_type": "markdown",
   "id": "pending-massachusetts",
   "metadata": {},
   "source": [
    "#### MWU p-values for local distances"
   ]
  },
  {
   "cell_type": "code",
   "execution_count": 13,
   "id": "comic-refrigerator",
   "metadata": {},
   "outputs": [
    {
     "data": {
      "text/html": [
       "<div>\n",
       "<style scoped>\n",
       "    .dataframe tbody tr th:only-of-type {\n",
       "        vertical-align: middle;\n",
       "    }\n",
       "\n",
       "    .dataframe tbody tr th {\n",
       "        vertical-align: top;\n",
       "    }\n",
       "\n",
       "    .dataframe thead th {\n",
       "        text-align: right;\n",
       "    }\n",
       "</style>\n",
       "<table border=\"1\" class=\"dataframe\">\n",
       "  <thead>\n",
       "    <tr style=\"text-align: right;\">\n",
       "      <th></th>\n",
       "      <th>distance_type</th>\n",
       "      <th>p_value</th>\n",
       "    </tr>\n",
       "  </thead>\n",
       "  <tbody>\n",
       "    <tr>\n",
       "      <th>0</th>\n",
       "      <td>topology_only</td>\n",
       "      <td>0.415727</td>\n",
       "    </tr>\n",
       "    <tr>\n",
       "      <th>1</th>\n",
       "      <td>normalized_ranks</td>\n",
       "      <td>0.523937</td>\n",
       "    </tr>\n",
       "    <tr>\n",
       "      <th>2</th>\n",
       "      <td>normalized_scores</td>\n",
       "      <td>0.462449</td>\n",
       "    </tr>\n",
       "  </tbody>\n",
       "</table>\n",
       "</div>"
      ],
      "text/plain": [
       "       distance_type   p_value\n",
       "0      topology_only  0.415727\n",
       "1   normalized_ranks  0.523937\n",
       "2  normalized_scores  0.462449"
      ]
     },
     "execution_count": 13,
     "metadata": {},
     "output_type": "execute_result"
    }
   ],
   "source": [
    "mwu_global_p_values = pd.read_csv('results/mwu_global_p_values.csv')\n",
    "mwu_global_p_values "
   ]
  },
  {
   "cell_type": "markdown",
   "id": "given-clearance",
   "metadata": {},
   "source": [
    "#### Wilcoxon p-values for local distances"
   ]
  },
  {
   "cell_type": "code",
   "execution_count": 18,
   "id": "everyday-spending",
   "metadata": {},
   "outputs": [
    {
     "data": {
      "text/html": [
       "<div>\n",
       "<style scoped>\n",
       "    .dataframe tbody tr th:only-of-type {\n",
       "        vertical-align: middle;\n",
       "    }\n",
       "\n",
       "    .dataframe tbody tr th {\n",
       "        vertical-align: top;\n",
       "    }\n",
       "\n",
       "    .dataframe thead th {\n",
       "        text-align: right;\n",
       "    }\n",
       "</style>\n",
       "<table border=\"1\" class=\"dataframe\">\n",
       "  <thead>\n",
       "    <tr style=\"text-align: right;\">\n",
       "      <th></th>\n",
       "      <th>distance_type</th>\n",
       "      <th>p_value</th>\n",
       "    </tr>\n",
       "  </thead>\n",
       "  <tbody>\n",
       "    <tr>\n",
       "      <th>0</th>\n",
       "      <td>normalized_ranks</td>\n",
       "      <td>0.357021</td>\n",
       "    </tr>\n",
       "    <tr>\n",
       "      <th>1</th>\n",
       "      <td>normalized_scores</td>\n",
       "      <td>0.329890</td>\n",
       "    </tr>\n",
       "    <tr>\n",
       "      <th>2</th>\n",
       "      <td>topology_only</td>\n",
       "      <td>0.318438</td>\n",
       "    </tr>\n",
       "  </tbody>\n",
       "</table>\n",
       "</div>"
      ],
      "text/plain": [
       "       distance_type   p_value\n",
       "0   normalized_ranks  0.357021\n",
       "1  normalized_scores  0.329890\n",
       "2      topology_only  0.318438"
      ]
     },
     "execution_count": 18,
     "metadata": {},
     "output_type": "execute_result"
    }
   ],
   "source": [
    "wilcoxon_global_p_values = pd.read_csv('results/wilcoxon_global_p_values.csv')\n",
    "wilcoxon_global_p_values "
   ]
  },
  {
   "cell_type": "markdown",
   "id": "opposed-bible",
   "metadata": {},
   "source": [
    "- $\\Longrightarrow$ When comparing disease-specific instead of network-wide distances, the differences between original and permuted networks are no longer significant.\n",
    "- **$\\Longrightarrow$ Signal seems to be so weak that it vanishes when zooming-in to the disease level.** "
   ]
  },
  {
   "cell_type": "markdown",
   "id": "cross-milwaukee",
   "metadata": {},
   "source": [
    "#### Local distances for ICD-10 chapters"
   ]
  },
  {
   "cell_type": "code",
   "execution_count": 86,
   "id": "graduate-syndicate",
   "metadata": {},
   "outputs": [
    {
     "data": {
      "image/png": "[encoded data removed]",
      "text/plain": [
       "<Figure size 1861.25x1080 with 15 Axes>"
      ]
     },
     "metadata": {
      "needs_background": "light"
     },
     "output_type": "display_data"
    }
   ],
   "source": [
    "local = results[results['chapter'] != 'Global']\n",
    "fig = sns.catplot(data=local, x='distance_type', y='distance', col='chapter', hue='permuted', col_wrap=5, kind='box')\n",
    "adjust_titles(fig)"
   ]
  },
  {
   "cell_type": "markdown",
   "id": "numerous-butler",
   "metadata": {},
   "source": [
    "#### MWU p-values for ICD-10 chapters"
   ]
  },
  {
   "cell_type": "code",
   "execution_count": 12,
   "id": "korean-faith",
   "metadata": {},
   "outputs": [
    {
     "data": {
      "text/html": [
       "<div>\n",
       "<style scoped>\n",
       "    .dataframe tbody tr th:only-of-type {\n",
       "        vertical-align: middle;\n",
       "    }\n",
       "\n",
       "    .dataframe tbody tr th {\n",
       "        vertical-align: top;\n",
       "    }\n",
       "\n",
       "    .dataframe thead th {\n",
       "        text-align: right;\n",
       "    }\n",
       "</style>\n",
       "<table border=\"1\" class=\"dataframe\">\n",
       "  <thead>\n",
       "    <tr style=\"text-align: right;\">\n",
       "      <th></th>\n",
       "      <th>chapter</th>\n",
       "      <th>distance_type</th>\n",
       "      <th>p_value</th>\n",
       "      <th>adjusted_p_value</th>\n",
       "    </tr>\n",
       "  </thead>\n",
       "  <tbody>\n",
       "  </tbody>\n",
       "</table>\n",
       "</div>"
      ],
      "text/plain": [
       "Empty DataFrame\n",
       "Columns: [chapter, distance_type, p_value, adjusted_p_value]\n",
       "Index: []"
      ]
     },
     "execution_count": 12,
     "metadata": {},
     "output_type": "execute_result"
    }
   ],
   "source": [
    "mwu_chapter_p_values = pd.read_csv('results/mwu_chapter_p_values.csv')\n",
    "mwu_chapter_p_values[mwu_chapter_p_values['p_value'] < 0.05]"
   ]
  },
  {
   "cell_type": "markdown",
   "id": "outside-authentication",
   "metadata": {},
   "source": [
    "#### Wilcoxon p-values for ICD-10 chapters"
   ]
  },
  {
   "cell_type": "code",
   "execution_count": 14,
   "id": "secret-bracelet",
   "metadata": {},
   "outputs": [
    {
     "data": {
      "text/html": [
       "<div>\n",
       "<style scoped>\n",
       "    .dataframe tbody tr th:only-of-type {\n",
       "        vertical-align: middle;\n",
       "    }\n",
       "\n",
       "    .dataframe tbody tr th {\n",
       "        vertical-align: top;\n",
       "    }\n",
       "\n",
       "    .dataframe thead th {\n",
       "        text-align: right;\n",
       "    }\n",
       "</style>\n",
       "<table border=\"1\" class=\"dataframe\">\n",
       "  <thead>\n",
       "    <tr style=\"text-align: right;\">\n",
       "      <th></th>\n",
       "      <th>chapter</th>\n",
       "      <th>distance_type</th>\n",
       "      <th>p_value</th>\n",
       "      <th>adjusted_p_value</th>\n",
       "    </tr>\n",
       "  </thead>\n",
       "  <tbody>\n",
       "  </tbody>\n",
       "</table>\n",
       "</div>"
      ],
      "text/plain": [
       "Empty DataFrame\n",
       "Columns: [chapter, distance_type, p_value, adjusted_p_value]\n",
       "Index: []"
      ]
     },
     "execution_count": 14,
     "metadata": {},
     "output_type": "execute_result"
    }
   ],
   "source": [
    "wilcoxon_chapter_p_values = pd.read_csv('results/wilcoxon_chapter_p_values.csv')\n",
    "wilcoxon_chapter_p_values[mwu_chapter_p_values['p_value'] < 0.05]"
   ]
  },
  {
   "cell_type": "markdown",
   "id": "seeing-adrian",
   "metadata": {},
   "source": [
    "- $\\Longrightarrow$ Not a single MWU or Wilcoxon test reached significance, **even without multiple testing correction**.\n",
    "\n",
    "#### MWU p-values for ICD-10 ranges"
   ]
  },
  {
   "cell_type": "code",
   "execution_count": 16,
   "id": "hispanic-saint",
   "metadata": {},
   "outputs": [],
   "source": [
    "with open('data/icd10_range_to_description.json') as fp:\n",
    "    range_to_description = json.load(fp)"
   ]
  },
  {
   "cell_type": "code",
   "execution_count": 161,
   "id": "clear-relations",
   "metadata": {},
   "outputs": [
    {
     "data": {
      "text/html": [
       "<div>\n",
       "<style scoped>\n",
       "    .dataframe tbody tr th:only-of-type {\n",
       "        vertical-align: middle;\n",
       "    }\n",
       "\n",
       "    .dataframe tbody tr th {\n",
       "        vertical-align: top;\n",
       "    }\n",
       "\n",
       "    .dataframe thead th {\n",
       "        text-align: right;\n",
       "    }\n",
       "</style>\n",
       "<table border=\"1\" class=\"dataframe\">\n",
       "  <thead>\n",
       "    <tr style=\"text-align: right;\">\n",
       "      <th></th>\n",
       "      <th>range</th>\n",
       "      <th>distance_type</th>\n",
       "      <th>p_value</th>\n",
       "      <th>adjusted_p_value</th>\n",
       "    </tr>\n",
       "  </thead>\n",
       "  <tbody>\n",
       "    <tr>\n",
       "      <th>0</th>\n",
       "      <td>Hypertensive diseases</td>\n",
       "      <td>normalized_ranks</td>\n",
       "      <td>0.025310</td>\n",
       "      <td>2.328537</td>\n",
       "    </tr>\n",
       "    <tr>\n",
       "      <th>1</th>\n",
       "      <td>Hypertensive diseases</td>\n",
       "      <td>normalized_scores</td>\n",
       "      <td>0.006928</td>\n",
       "      <td>0.637391</td>\n",
       "    </tr>\n",
       "    <tr>\n",
       "      <th>2</th>\n",
       "      <td>Cerebrovascular diseases</td>\n",
       "      <td>normalized_ranks</td>\n",
       "      <td>0.000559</td>\n",
       "      <td>0.051457</td>\n",
       "    </tr>\n",
       "    <tr>\n",
       "      <th>3</th>\n",
       "      <td>Cerebrovascular diseases</td>\n",
       "      <td>normalized_scores</td>\n",
       "      <td>0.037677</td>\n",
       "      <td>3.466319</td>\n",
       "    </tr>\n",
       "  </tbody>\n",
       "</table>\n",
       "</div>"
      ],
      "text/plain": [
       "                      range      distance_type   p_value  adjusted_p_value\n",
       "0     Hypertensive diseases   normalized_ranks  0.025310          2.328537\n",
       "1     Hypertensive diseases  normalized_scores  0.006928          0.637391\n",
       "2  Cerebrovascular diseases   normalized_ranks  0.000559          0.051457\n",
       "3  Cerebrovascular diseases  normalized_scores  0.037677          3.466319"
      ]
     },
     "execution_count": 161,
     "metadata": {},
     "output_type": "execute_result"
    }
   ],
   "source": [
    "mwu_p_values_ranges = pd.read_csv('results/mwu_range_p_values.csv')\n",
    "significant_ranges = mwu_p_values_ranges[mwu_p_values_ranges['p_value'] < 0.05].reset_index(drop=True)\n",
    "significant_ranges['range'] = significant_ranges['range'].apply(lambda x: range_to_description[x])\n",
    "significant_ranges"
   ]
  },
  {
   "cell_type": "markdown",
   "id": "induced-tablet",
   "metadata": {},
   "source": [
    "#### Wilcoxon p-values for ICD-10 ranges"
   ]
  },
  {
   "cell_type": "code",
   "execution_count": 17,
   "id": "biblical-darwin",
   "metadata": {},
   "outputs": [
    {
     "data": {
      "text/html": [
       "<div>\n",
       "<style scoped>\n",
       "    .dataframe tbody tr th:only-of-type {\n",
       "        vertical-align: middle;\n",
       "    }\n",
       "\n",
       "    .dataframe tbody tr th {\n",
       "        vertical-align: top;\n",
       "    }\n",
       "\n",
       "    .dataframe thead th {\n",
       "        text-align: right;\n",
       "    }\n",
       "</style>\n",
       "<table border=\"1\" class=\"dataframe\">\n",
       "  <thead>\n",
       "    <tr style=\"text-align: right;\">\n",
       "      <th></th>\n",
       "      <th>range</th>\n",
       "      <th>distance_type</th>\n",
       "      <th>p_value</th>\n",
       "      <th>adjusted_p_value</th>\n",
       "    </tr>\n",
       "  </thead>\n",
       "  <tbody>\n",
       "    <tr>\n",
       "      <th>0</th>\n",
       "      <td>Cerebrovascular diseases</td>\n",
       "      <td>normalized_ranks</td>\n",
       "      <td>0.000559</td>\n",
       "      <td>0.051457</td>\n",
       "    </tr>\n",
       "    <tr>\n",
       "      <th>1</th>\n",
       "      <td>Cerebrovascular diseases</td>\n",
       "      <td>normalized_scores</td>\n",
       "      <td>0.037677</td>\n",
       "      <td>3.466319</td>\n",
       "    </tr>\n",
       "    <tr>\n",
       "      <th>2</th>\n",
       "      <td>Hypertensive diseases</td>\n",
       "      <td>normalized_ranks</td>\n",
       "      <td>0.025310</td>\n",
       "      <td>2.328537</td>\n",
       "    </tr>\n",
       "    <tr>\n",
       "      <th>3</th>\n",
       "      <td>Hypertensive diseases</td>\n",
       "      <td>normalized_scores</td>\n",
       "      <td>0.006928</td>\n",
       "      <td>0.637391</td>\n",
       "    </tr>\n",
       "  </tbody>\n",
       "</table>\n",
       "</div>"
      ],
      "text/plain": [
       "                      range      distance_type   p_value  adjusted_p_value\n",
       "0  Cerebrovascular diseases   normalized_ranks  0.000559          0.051457\n",
       "1  Cerebrovascular diseases  normalized_scores  0.037677          3.466319\n",
       "2     Hypertensive diseases   normalized_ranks  0.025310          2.328537\n",
       "3     Hypertensive diseases  normalized_scores  0.006928          0.637391"
      ]
     },
     "execution_count": 17,
     "metadata": {},
     "output_type": "execute_result"
    }
   ],
   "source": [
    "wilcoxon_p_values_ranges = pd.read_csv('results/mwu_range_p_values.csv')\n",
    "significant_ranges = wilcoxon_p_values_ranges[wilcoxon_p_values_ranges['p_value'] < 0.05].reset_index(drop=True)\n",
    "significant_ranges['range'] = significant_ranges['range'].apply(lambda x: range_to_description[x])\n",
    "significant_ranges"
   ]
  },
  {
   "cell_type": "markdown",
   "id": "alternative-theta",
   "metadata": {},
   "source": [
    "- **$\\Longrightarrow$ Without multiple testing correction**: Only four MWU and Wilcoxon tests reached significance.\n",
    "- **$\\Longrightarrow$ With multiple testing correction**: Not a single test reached significance."
   ]
  },
  {
   "cell_type": "markdown",
   "id": "minimal-atlanta",
   "metadata": {},
   "source": [
    "#### Results for individual diseases"
   ]
  },
  {
   "cell_type": "code",
   "execution_count": 173,
   "id": "positive-bulgarian",
   "metadata": {},
   "outputs": [
    {
     "data": {
      "text/plain": [
       "118"
      ]
     },
     "execution_count": 173,
     "metadata": {},
     "output_type": "execute_result"
    }
   ],
   "source": [
    "with open('data/icd10_code_to_description.json') as fp:\n",
    "    code_to_description = json.load(fp)\n",
    "diseases = list(set(empirical_p_values['comparison']).difference({'global'}))\n",
    "all_significant = {disease: True for disease in diseases}\n",
    "significance_threshold = 0.001\n",
    "for i in range(empirical_p_values.shape[0]):\n",
    "    disease = empirical_p_values.loc[i, 'comparison']\n",
    "    if comparison == 'global':\n",
    "        continue\n",
    "    elif empirical_p_values.loc[i, 'p_value'] >= significance_threshold:\n",
    "        all_significant[disease] = False\n",
    "all_significant = [code_to_description[disease] for disease in diseases if all_significant[disease]]\n",
    "len(all_significant)"
   ]
  },
  {
   "cell_type": "markdown",
   "id": "practical-somewhere",
   "metadata": {},
   "source": [
    "- $\\Longrightarrow$ For $118$ out of $1006$ diseases, the empirical $p$-values for all three distances are smaller than $0.001$.\n",
    "- **But we did not correct for multiple testing**, since with $n=1000$ permutations, the best possible adjusted $p$-value would be $1006/1001\\approx1.005$.\n",
    "- If we want that the adjusted $p$-values have a chance to reach $0.05$, we need to run the tests with **at least $n=20120$ permutations**. "
   ]
  },
  {
   "cell_type": "markdown",
   "id": "explicit-poverty",
   "metadata": {},
   "source": [
    "#### Local distances for commROCG diseases"
   ]
  },
  {
   "cell_type": "code",
   "execution_count": 20,
   "id": "statewide-turning",
   "metadata": {},
   "outputs": [
    {
     "data": {
      "text/plain": [
       "<seaborn.axisgrid.FacetGrid at 0x168dc3f10>"
      ]
     },
     "execution_count": 20,
     "metadata": {},
     "output_type": "execute_result"
    },
    {
     "data": {
      "image/png": "[encoded data removed]",
      "text/plain": [
       "<Figure size 421.25x360 with 1 Axes>"
      ]
     },
     "metadata": {
      "needs_background": "light"
     },
     "output_type": "display_data"
    }
   ],
   "source": [
    "commrocg = set(pd.read_csv('data/commrocg.tsv', sep='\\t')['Code'])\n",
    "sns.catplot(data=results[results['comparison'].isin(commrocg)], x='distance_type', y='distance', hue='permuted', kind='box')"
   ]
  },
  {
   "cell_type": "markdown",
   "id": "floppy-citizen",
   "metadata": {},
   "source": [
    "#### MWU p-values for commROCG diseases"
   ]
  },
  {
   "cell_type": "code",
   "execution_count": 23,
   "id": "cooked-asbestos",
   "metadata": {},
   "outputs": [
    {
     "data": {
      "text/html": [
       "<div>\n",
       "<style scoped>\n",
       "    .dataframe tbody tr th:only-of-type {\n",
       "        vertical-align: middle;\n",
       "    }\n",
       "\n",
       "    .dataframe tbody tr th {\n",
       "        vertical-align: top;\n",
       "    }\n",
       "\n",
       "    .dataframe thead th {\n",
       "        text-align: right;\n",
       "    }\n",
       "</style>\n",
       "<table border=\"1\" class=\"dataframe\">\n",
       "  <thead>\n",
       "    <tr style=\"text-align: right;\">\n",
       "      <th></th>\n",
       "      <th>distance_type</th>\n",
       "      <th>p_value</th>\n",
       "    </tr>\n",
       "  </thead>\n",
       "  <tbody>\n",
       "    <tr>\n",
       "      <th>0</th>\n",
       "      <td>topology_only</td>\n",
       "      <td>0.283415</td>\n",
       "    </tr>\n",
       "    <tr>\n",
       "      <th>1</th>\n",
       "      <td>normalized_ranks</td>\n",
       "      <td>0.235036</td>\n",
       "    </tr>\n",
       "    <tr>\n",
       "      <th>2</th>\n",
       "      <td>normalized_scores</td>\n",
       "      <td>0.202020</td>\n",
       "    </tr>\n",
       "  </tbody>\n",
       "</table>\n",
       "</div>"
      ],
      "text/plain": [
       "       distance_type   p_value\n",
       "0      topology_only  0.283415\n",
       "1   normalized_ranks  0.235036\n",
       "2  normalized_scores  0.202020"
      ]
     },
     "execution_count": 23,
     "metadata": {},
     "output_type": "execute_result"
    }
   ],
   "source": [
    "mwu_commrocg_p_values = pd.read_csv('results/mwu_commrocg_p_values.csv')\n",
    "mwu_commrocg_p_values"
   ]
  },
  {
   "cell_type": "markdown",
   "id": "declared-traveler",
   "metadata": {},
   "source": [
    "#### Wilcoxon p-values for commROCG diseases"
   ]
  },
  {
   "cell_type": "code",
   "execution_count": 24,
   "id": "stone-stevens",
   "metadata": {},
   "outputs": [
    {
     "data": {
      "text/html": [
       "<div>\n",
       "<style scoped>\n",
       "    .dataframe tbody tr th:only-of-type {\n",
       "        vertical-align: middle;\n",
       "    }\n",
       "\n",
       "    .dataframe tbody tr th {\n",
       "        vertical-align: top;\n",
       "    }\n",
       "\n",
       "    .dataframe thead th {\n",
       "        text-align: right;\n",
       "    }\n",
       "</style>\n",
       "<table border=\"1\" class=\"dataframe\">\n",
       "  <thead>\n",
       "    <tr style=\"text-align: right;\">\n",
       "      <th></th>\n",
       "      <th>distance_type</th>\n",
       "      <th>p_value</th>\n",
       "    </tr>\n",
       "  </thead>\n",
       "  <tbody>\n",
       "    <tr>\n",
       "      <th>0</th>\n",
       "      <td>normalized_ranks</td>\n",
       "      <td>0.563006</td>\n",
       "    </tr>\n",
       "    <tr>\n",
       "      <th>1</th>\n",
       "      <td>normalized_scores</td>\n",
       "      <td>0.542098</td>\n",
       "    </tr>\n",
       "    <tr>\n",
       "      <th>2</th>\n",
       "      <td>topology_only</td>\n",
       "      <td>0.552570</td>\n",
       "    </tr>\n",
       "  </tbody>\n",
       "</table>\n",
       "</div>"
      ],
      "text/plain": [
       "       distance_type   p_value\n",
       "0   normalized_ranks  0.563006\n",
       "1  normalized_scores  0.542098\n",
       "2      topology_only  0.552570"
      ]
     },
     "execution_count": 24,
     "metadata": {},
     "output_type": "execute_result"
    }
   ],
   "source": [
    "wilcoxon_commrocg_p_values = pd.read_csv('results/wilcoxon_commrocg_p_values.csv')\n",
    "wilcoxon_commrocg_p_values"
   ]
  },
  {
   "cell_type": "markdown",
   "id": "mechanical-internship",
   "metadata": {},
   "source": [
    "**$\\Longrightarrow$ Again, nothing is significant.**"
   ]
  },
  {
   "cell_type": "markdown",
   "id": "statewide-saturday",
   "metadata": {},
   "source": [
    "## Conclusions\n",
    "\n",
    "- Globally, there seems to be a non-random correlation between the two diseasomes.\n",
    "- But the evidence for this claim is very weak, and as soon as we zoom-in and increase the resolution, the results no longer support it (I did not even correct for multiple testing when computing the disease-specific empirical $p$-values). \n",
    "- **$\\Longrightarrow$ The local neighborhoods of individual diseases are not significantly more similar for the two diseasomes than for random networks with the same node degrees.**\n",
    "- I see three possible explanations:\n",
    "  - Poor quality of gene-based diseasome.\n",
    "  - Poor quality of comorbidity-based diseasome.\n",
    "  - **Poor disease ontology**."
   ]
  },
  {
   "cell_type": "markdown",
   "id": "solar-snowboard",
   "metadata": {},
   "source": [
    "## Next steps\n",
    "\n",
    "- Re-run the tests with $n=100000$ permutations such that we can compute meaningful adjusted $p$-values for the individual diseases.\n",
    "- Enough for a short paper?\n",
    "- If so, where shall we submit? Maybe Scientific Reports or NPJ Systems Biology and Applications?\n",
    "- If not, what shall we add?"
   ]
  }
 ],
 "metadata": {
  "kernelspec": {
   "display_name": "Python 3",
   "language": "python",
   "name": "python3"
  },
  "language_info": {
   "codemirror_mode": {
    "name": "ipython",
    "version": 3
   },
   "file_extension": ".py",
   "mimetype": "text/x-python",
   "name": "python",
   "nbconvert_exporter": "python",
   "pygments_lexer": "ipython3",
   "version": "3.9.2"
  }
 },
 "nbformat": 4,
 "nbformat_minor": 5
}
