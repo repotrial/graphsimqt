{
 "cells": [
  {
   "cell_type": "markdown",
   "id": "vertical-board",
   "metadata": {},
   "source": [
    "# Scarce evidence for non-random correlation between gene- and comorbidity-based disease networks"
   ]
  },
  {
   "cell_type": "code",
   "execution_count": 3,
   "id": "geographic-aside",
   "metadata": {},
   "outputs": [],
   "source": [
    "%matplotlib inline\n",
    "import pandas as pd\n",
    "import seaborn as sns\n",
    "import itertools as itt\n",
    "import json\n",
    "import matplotlib.pyplot as plt\n",
    "import graph_tool as gt\n",
    "import graph_tool.stats as gts\n",
    "from pathlib import Path\n",
    "import numpy as np\n",
    "import scipy.stats as sps"
   ]
  },
  {
   "cell_type": "code",
   "execution_count": 9,
   "id": "nervous-charter",
   "metadata": {},
   "outputs": [
    {
     "data": {
      "text/plain": [
       "344.17484556092484"
      ]
     },
     "execution_count": 9,
     "metadata": {},
     "output_type": "execute_result"
    }
   ],
   "source": [
    "a = np.random.random(1000)\n",
    "b = np.random.random(1000) - 0.05\n",
    "np.fabs(a - b).sum()"
   ]
  },
  {
   "cell_type": "code",
   "execution_count": 113,
   "id": "designing-intensity",
   "metadata": {},
   "outputs": [
    {
     "name": "stdout",
     "output_type": "stream",
     "text": [
      "WilcoxonResult(statistic=216666.0, pvalue=0.00023674707760724655)\n",
      "WilcoxonResult(statistic=216666.0, pvalue=0.00011837353880362327)\n"
     ]
    }
   ],
   "source": [
    "print(sps.wilcoxon(x=a, y=b, alternative=\"two-sided\"))\n",
    "print(sps.wilcoxon(x=a, y=b, alternative=\"less\"))"
   ]
  },
  {
   "cell_type": "code",
   "execution_count": 63,
   "id": "british-graphics",
   "metadata": {},
   "outputs": [],
   "source": [
    "def adjust_titles(fig, width=60):\n",
    "    with open('data/icd10_chapter_to_description.json') as fp:\n",
    "        chapter_to_description = json.load(fp)\n",
    "    for axis in fig.axes.flatten():\n",
    "        chapter = axis.get_title().split(' = ')[1]\n",
    "        axis.set_title('')\n",
    "        if chapter == 'Global':\n",
    "            title = chapter\n",
    "        else:\n",
    "            title = f'{chapter}: {chapter_to_description[chapter]}'\n",
    "        if len(title) > width:\n",
    "            words = title.split(' ')\n",
    "            title=''\n",
    "            length_line = 0\n",
    "            for word in words:\n",
    "                if title == '':\n",
    "                    title = word\n",
    "                    length_line = len(word)\n",
    "                elif length_line + len(word) + 1 <= 50:\n",
    "                    title = f'{title} {word}'\n",
    "                    length_line += 1 + len(word)\n",
    "                else:\n",
    "                    title = f\"{title}\\n{word}\"\n",
    "                    length_line = len(word)  \n",
    "        axis.set_title(title, loc='left')\n",
    "    fig.fig.tight_layout()"
   ]
  },
  {
   "cell_type": "code",
   "execution_count": 79,
   "id": "beneficial-nomination",
   "metadata": {},
   "outputs": [],
   "source": [
    "def add_significance_line(fig, significance_level=0.05):\n",
    "    for axis in fig.axes.flatten():\n",
    "        axis.axhline(-np.log10(significance_level))"
   ]
  },
  {
   "cell_type": "markdown",
   "id": "paperback-shade",
   "metadata": {},
   "source": [
    "## Methods\n",
    "\n",
    "### Gene-based diseasome\n",
    "\n",
    "- Constructed by Sepi based on DisGeNET and OMIM.\n",
    "- Undirected edges are weighted with Jaccard index:\n",
    "\n",
    "$$w_{ij}=J(d_id_j)=\\frac{|\\mathit{genes}(d_i)\\cap\\mathit{genes}(d_j)|}{|\\mathit{genes}(d_i)\\cup\\mathit{genes}(d_j)|}$$\n",
    "\n",
    "### Comorbidity-based diseasome\n",
    "\n",
    "- Taken from [Siggaard et al. (2020)](https://www.nature.com/articles/s41467-020-18682-4) (Supplementary Data 1).\n",
    "- Directed edges are weighted with customized relative risk: $$w_{i,j}=\\mathit{RR}(d_i,d_j)=\\frac{10000\\cdot|\\{s\\in P_i\\mid\\text{patient $s$ has disease $d_j$}\\}|}{\\sum_{s\\in P_i}|\\{s^\\prime\\in M_s\\mid\\text{patient $s^\\prime$ has disease $d_j$}\\}|}\\text{, where}$$\n",
    "- $P_i$ is set of all patients with disease $d_i$.\n",
    "- For all $s\\in P_i$, $M_s$ is matched set of $10000$ patients.\n",
    "- To derive an undirected version, we set $w_{ij}=\\mathit{RR}(d_id_j)=(\\mathit{RR}(d_i,d_j)+\\mathit{RR}(d_j,d_i))/2$ whenever both the edge $(d_i,d_j)$ and the edge $(d_j,d_i)$ exist in the network.\n",
    "\n",
    "### Network integration\n",
    "\n",
    "- Discard all diseases that are contained in only one of the two networks.\n",
    "- $\\Longrightarrow$ Keep set $D$ of diseases contained in both.\n",
    "- Compute normalized edge weights as follows: $$\\hat{w}_{ij}=\\frac{w_{ij}}{\\max_{ij\\in E}w_{ij}}$$\n",
    "- Compute normalized edge ranks as follows: $$\\hat{r}_{ij}=\\frac{|\\{d_{i^\\prime}d_{j^\\prime}\\in E\\mid w_{i^\\prime j^\\prime}<w_{ij}\\}|}{|E|}$$\n",
    "- $\\Longrightarrow$ Both the normalized weights and the normalized weights are comparable.\n",
    "\n",
    "### Compare networks via graph edit distance\n",
    "\n",
    "- Let $G^g=(D,E^g)$ be gene-based diseasome and $G^c=(D,E^c)$be comorbidity-based diseasome.\n",
    "- Compare diseasomes via graph edit distance (GED) using, respectively, topology only, normalized weights, and normalized ranks: \n",
    "$$\n",
    "\\begin{align}\n",
    "\\mathrm{GED}(G^g,H^g)&=\\overbrace{\\sum_{d_id_j\\in E^g\\cap E^h}|s^g_{ij}-s^c_{ij}|+\\sum_{d_id_j\\in E^g\\setminus E^h}1 + s^g_{ij}+\\sum_{d_id_j\\in E^h\\setminus E^g}1 + s^h_{ij}}^{\\text{Global distance between the diseasomes $G^g$ and $G^c$.}}\\\\\n",
    "&=\\frac{1}{2}\\cdot\\sum_{d_i\\in D}\\underbrace{\\sum_{d_j\\in N^g_i\\cap N^h_i}|s^g_{ij}-s^c_{ij}|+\\sum_{d_j\\in N^g_i\\setminus E^h_i}1 + s^g_{ij}+\\sum_{d_j\\in E^h_i\\setminus E^g_i}1 + s^h_{ij}}_{\\text{Local distance $\\mathrm{GED}_i(G^g,H^g)$ for disease $D_i$, given the diseasomes $G^g$ and $G^c$.}}\n",
    "\\end{align}\n",
    "$$\n",
    "- Topology only: $s_{ij}=0$.\n",
    "- Normalized weights: $s_{ij}=\\hat{w}_{ij}$.\n",
    "- Normalized ranks: $s_{ij}=\\hat{r}_{ij}$.\n",
    "\n",
    "### Permutation tests\n",
    "\n",
    "- Compute distances between $G^g$ and $G^c$.\n",
    "- Compute distances for $n$ pairs $(\\tilde{G}^g_k,\\tilde{G}^c_k)_{k=1}^n$ of random networks with preserved node degrees, generated with [graph_tool.generation.random_rewire()](https://graph-tool.skewed.de/static/doc/generation.html#graph_tool.generation.random_rewire).\n",
    "- Compute empirical $p$-values for the global networks and the individual diseases:\n",
    "- Global empirical $p$-value for entire networks: $$\\text{$p$-value}=\\frac{|\\{k\\in\\{1,\\ldots,n\\}\\mid\\mathrm{GED}(\\tilde{G}^g_k,\\tilde{G}^c_k)\\leq\\mathrm{GED}(G^g,H^g)\\}|}{n+1}$$\n",
    "- Local empirical $p$-value for disease $D_i$: $$\\text{$p$-value}=\\frac{|\\{k\\in\\{1,\\ldots,n\\}\\mid\\mathrm{GED}_i(\\tilde{G}^g_k,\\tilde{G}^c_k)\\leq\\mathrm{GED}_i(G^g,H^g)\\}|}{n+1}$$\n",
    "- Compute $p$-values for batches of diseases (all diseases, ICD-10 chapters, ICD-10 ranges, commROCG genes):\n",
    "  - Using the **one-sided Mann-Whitney $U$-test**, where one sample contains local distances for the original network and the other one contains local distances for the permuted networks.\n",
    "  - Using the **one-sided Wilcoxon signed-rank test**, where one sample contains local distances for the original network and the other one contains the means of the local distances for the permuted networks across all permutations."
   ]
  },
  {
   "cell_type": "markdown",
   "id": "polish-modern",
   "metadata": {},
   "source": [
    "## Results\n",
    "\n",
    "- Ran permutation tests as described above with $n=1000$ permutations.\n",
    "\n",
    "### Network statistics\n",
    "\n",
    "#### Numbers of nodes and edges"
   ]
  },
  {
   "cell_type": "code",
   "execution_count": 95,
   "id": "color-preliminary",
   "metadata": {},
   "outputs": [
    {
     "data": {
      "text/html": [
       "<div>\n",
       "<style scoped>\n",
       "    .dataframe tbody tr th:only-of-type {\n",
       "        vertical-align: middle;\n",
       "    }\n",
       "\n",
       "    .dataframe tbody tr th {\n",
       "        vertical-align: top;\n",
       "    }\n",
       "\n",
       "    .dataframe thead th {\n",
       "        text-align: right;\n",
       "    }\n",
       "</style>\n",
       "<table border=\"1\" class=\"dataframe\">\n",
       "  <thead>\n",
       "    <tr style=\"text-align: right;\">\n",
       "      <th></th>\n",
       "      <th>type</th>\n",
       "      <th>num_nodes</th>\n",
       "      <th>num_edges</th>\n",
       "    </tr>\n",
       "  </thead>\n",
       "  <tbody>\n",
       "    <tr>\n",
       "      <th>0</th>\n",
       "      <td>gene-based</td>\n",
       "      <td>1006</td>\n",
       "      <td>38692</td>\n",
       "    </tr>\n",
       "    <tr>\n",
       "      <th>1</th>\n",
       "      <td>comorbidity-based</td>\n",
       "      <td>1006</td>\n",
       "      <td>9017</td>\n",
       "    </tr>\n",
       "  </tbody>\n",
       "</table>\n",
       "</div>"
      ],
      "text/plain": [
       "                type  num_nodes  num_edges\n",
       "0         gene-based       1006      38692\n",
       "1  comorbidity-based       1006       9017"
      ]
     },
     "execution_count": 95,
     "metadata": {},
     "output_type": "execute_result"
    }
   ],
   "source": [
    "ji_graph = gt.load_graph('data/normalized_jaccard_index_diseasome.graphml')\n",
    "rr_graph = gt.load_graph('data/normalized_relative_risk_diseasome.graphml')\n",
    "nums_nodes = [ji_graph.num_vertices(), rr_graph.num_vertices()]\n",
    "nums_edges = [ji_graph.num_edges(), rr_graph.num_edges()]\n",
    "network_types = ['gene-based', 'comorbidity-based']\n",
    "network_stats = pd.DataFrame(data={'type': network_types, 'num_nodes': nums_nodes, 'num_edges': nums_edges})\n",
    "network_stats"
   ]
  },
  {
   "cell_type": "markdown",
   "id": "growing-million",
   "metadata": {},
   "source": [
    "#### Degree distribution for gene-based diseasome"
   ]
  },
  {
   "cell_type": "code",
   "execution_count": 106,
   "id": "dynamic-brake",
   "metadata": {},
   "outputs": [
    {
     "data": {
      "image/png": "[encoded data removed]",
      "text/plain": [
       "<Figure size 360x360 with 1 Axes>"
      ]
     },
     "metadata": {
      "needs_background": "light"
     },
     "output_type": "display_data"
    }
   ],
   "source": [
    "ji_degs = ji_graph.get_total_degrees([node for node in ji_graph.vertices()])\n",
    "fig = sns.displot(data=pd.DataFrame({'degree': ji_degs}), x='degree')"
   ]
  },
  {
   "cell_type": "markdown",
   "id": "polar-lawyer",
   "metadata": {},
   "source": [
    "#### Degree distribution for comorbidity-based diseasome"
   ]
  },
  {
   "cell_type": "code",
   "execution_count": 107,
   "id": "acting-stranger",
   "metadata": {},
   "outputs": [
    {
     "data": {
      "text/plain": [
       "<seaborn.axisgrid.FacetGrid at 0x15ffba820>"
      ]
     },
     "execution_count": 107,
     "metadata": {},
     "output_type": "execute_result"
    },
    {
     "data": {
      "image/png": "[encoded data removed]",
      "text/plain": [
       "<Figure size 360x360 with 1 Axes>"
      ]
     },
     "metadata": {
      "needs_background": "light"
     },
     "output_type": "display_data"
    }
   ],
   "source": [
    "rr_degs = rr_graph.get_total_degrees([node for node in rr_graph.vertices()])\n",
    "sns.displot(data=pd.DataFrame({'degree': rr_degs}), x='degree')"
   ]
  },
  {
   "cell_type": "markdown",
   "id": "helpful-warning",
   "metadata": {},
   "source": [
    "#### Normalized Jaccard index and rank distributions for gene-based diseasome"
   ]
  },
  {
   "cell_type": "code",
   "execution_count": 119,
   "id": "gentle-elimination",
   "metadata": {},
   "outputs": [
    {
     "data": {
      "text/plain": [
       "<seaborn.axisgrid.FacetGrid at 0x167f4c2b0>"
      ]
     },
     "execution_count": 119,
     "metadata": {},
     "output_type": "execute_result"
    },
    {
     "data": {
      "image/png": "[encoded data removed]",
      "text/plain": [
       "<Figure size 360x360 with 1 Axes>"
      ]
     },
     "metadata": {
      "needs_background": "light"
     },
     "output_type": "display_data"
    }
   ],
   "source": [
    "ji_norm_scores = [ji_graph.edge_properties['JI-NORM'][edge] for edge in ji_graph.edges()]\n",
    "sns.displot(data=pd.DataFrame({'normalized Jaccard index': ji_norm_scores}), x='normalized Jaccard index')"
   ]
  },
  {
   "cell_type": "code",
   "execution_count": 117,
   "id": "homeless-situation",
   "metadata": {},
   "outputs": [
    {
     "data": {
      "text/plain": [
       "<seaborn.axisgrid.FacetGrid at 0x15ceaa220>"
      ]
     },
     "execution_count": 117,
     "metadata": {},
     "output_type": "execute_result"
    },
    {
     "data": {
      "image/png": "[encoded data removed]",
      "text/plain": [
       "<Figure size 360x360 with 1 Axes>"
      ]
     },
     "metadata": {
      "needs_background": "light"
     },
     "output_type": "display_data"
    }
   ],
   "source": [
    "ji_norm_ranks = [ji_graph.edge_properties['JI-NORM-RANK'][edge] for edge in ji_graph.edges()]\n",
    "sns.displot(data=pd.DataFrame({'normalized rank': ji_norm_ranks}), x='normalized rank')"
   ]
  },
  {
   "cell_type": "markdown",
   "id": "agreed-indie",
   "metadata": {},
   "source": [
    "#### Normalized relative risk and rank distribution for comorbidity-based diseasome"
   ]
  },
  {
   "cell_type": "code",
   "execution_count": 120,
   "id": "selective-middle",
   "metadata": {},
   "outputs": [
    {
     "data": {
      "text/plain": [
       "<seaborn.axisgrid.FacetGrid at 0x15fa1a790>"
      ]
     },
     "execution_count": 120,
     "metadata": {},
     "output_type": "execute_result"
    },
    {
     "data": {
      "image/png": "[encoded data removed]",
      "text/plain": [
       "<Figure size 360x360 with 1 Axes>"
      ]
     },
     "metadata": {
      "needs_background": "light"
     },
     "output_type": "display_data"
    }
   ],
   "source": [
    "rr_norm_scores = [rr_graph.edge_properties['RR-NORM'][edge] for edge in rr_graph.edges()]\n",
    "sns.displot(data=pd.DataFrame({'normalized relative risk': rr_norm_scores}), x='normalized relative risk')"
   ]
  },
  {
   "cell_type": "code",
   "execution_count": 121,
   "id": "yellow-barbados",
   "metadata": {},
   "outputs": [
    {
     "data": {
      "text/plain": [
       "<seaborn.axisgrid.FacetGrid at 0x168d42ca0>"
      ]
     },
     "execution_count": 121,
     "metadata": {},
     "output_type": "execute_result"
    },
    {
     "data": {
      "image/png": "[encoded data removed]",
      "text/plain": [
       "<Figure size 360x360 with 1 Axes>"
      ]
     },
     "metadata": {
      "needs_background": "light"
     },
     "output_type": "display_data"
    }
   ],
   "source": [
    "rr_norm_ranks = [rr_graph.edge_properties['RR-NORM-RANK'][edge] for edge in rr_graph.edges()]\n",
    "sns.displot(data=pd.DataFrame({'normalized rank': rr_norm_ranks}), x='normalized rank')"
   ]
  },
  {
   "cell_type": "markdown",
   "id": "greater-creativity",
   "metadata": {},
   "source": [
    "### Results for global distances\n",
    "\n",
    "#### GEDs for original and permuted networks"
   ]
  },
  {
   "cell_type": "code",
   "execution_count": 4,
   "id": "logical-analysis",
   "metadata": {},
   "outputs": [
    {
     "data": {
      "text/plain": [
       "<seaborn.axisgrid.FacetGrid at 0x108d93e80>"
      ]
     },
     "execution_count": 4,
     "metadata": {},
     "output_type": "execute_result"
    },
    {
     "data": {
      "image/png": "[encoded data removed]",
      "text/plain": [
       "<Figure size 421.25x360 with 1 Axes>"
      ]
     },
     "metadata": {
      "needs_background": "light"
     },
     "output_type": "display_data"
    }
   ],
   "source": [
    "results = pd.read_csv('results/EST_permutation_results.csv')\n",
    "sns.catplot(data=results[results['comparison'] == 'global'], x='distance_type', y='distance', hue='permuted')"
   ]
  },
  {
   "cell_type": "code",
   "execution_count": 6,
   "id": "emotional-engagement",
   "metadata": {},
   "outputs": [
    {
     "data": {
      "text/plain": [
       "[('J38', 'topology_only'),\n",
       " ('J38', 'normalized_ranks'),\n",
       " ('J38', 'normalized_scores'),\n",
       " ('J15', 'topology_only'),\n",
       " ('J15', 'normalized_ranks'),\n",
       " ('J15', 'normalized_scores'),\n",
       " ('F15', 'topology_only'),\n",
       " ('F15', 'normalized_ranks'),\n",
       " ('F15', 'normalized_scores'),\n",
       " ('C22', 'topology_only'),\n",
       " ('C22', 'normalized_ranks'),\n",
       " ('C22', 'normalized_scores'),\n",
       " ('C47', 'topology_only'),\n",
       " ('C47', 'normalized_ranks'),\n",
       " ('C47', 'normalized_scores'),\n",
       " ('H93', 'topology_only'),\n",
       " ('H93', 'normalized_ranks'),\n",
       " ('H93', 'normalized_scores'),\n",
       " ('L22', 'topology_only'),\n",
       " ('L22', 'normalized_ranks'),\n",
       " ('L22', 'normalized_scores'),\n",
       " ('D45', 'topology_only'),\n",
       " ('D45', 'normalized_ranks'),\n",
       " ('D45', 'normalized_scores'),\n",
       " ('A87', 'topology_only'),\n",
       " ('A87', 'normalized_ranks'),\n",
       " ('A87', 'normalized_scores'),\n",
       " ('G03', 'topology_only'),\n",
       " ('G03', 'normalized_ranks'),\n",
       " ('G03', 'normalized_scores'),\n",
       " ('Q66', 'topology_only'),\n",
       " ('Q66', 'normalized_ranks'),\n",
       " ('Q66', 'normalized_scores'),\n",
       " ('L63', 'topology_only'),\n",
       " ('L63', 'normalized_ranks'),\n",
       " ('L63', 'normalized_scores'),\n",
       " ('E61', 'topology_only'),\n",
       " ('E61', 'normalized_ranks'),\n",
       " ('E61', 'normalized_scores'),\n",
       " ('F14', 'topology_only'),\n",
       " ('F14', 'normalized_ranks'),\n",
       " ('F14', 'normalized_scores'),\n",
       " ('C41', 'topology_only'),\n",
       " ('C41', 'normalized_ranks'),\n",
       " ('C41', 'normalized_scores'),\n",
       " ('C57', 'topology_only'),\n",
       " ('C57', 'normalized_ranks'),\n",
       " ('C57', 'normalized_scores'),\n",
       " ('E30', 'topology_only'),\n",
       " ('E30', 'normalized_ranks'),\n",
       " ('E30', 'normalized_scores'),\n",
       " ('H60', 'topology_only'),\n",
       " ('H60', 'normalized_ranks'),\n",
       " ('H60', 'normalized_scores'),\n",
       " ('M99', 'topology_only'),\n",
       " ('M99', 'normalized_ranks'),\n",
       " ('M99', 'normalized_scores'),\n",
       " ('I26', 'topology_only'),\n",
       " ('I26', 'normalized_ranks'),\n",
       " ('I26', 'normalized_scores'),\n",
       " ('B23', 'topology_only'),\n",
       " ('B23', 'normalized_ranks'),\n",
       " ('B23', 'normalized_scores'),\n",
       " ('N01', 'topology_only'),\n",
       " ('N01', 'normalized_ranks'),\n",
       " ('N01', 'normalized_scores'),\n",
       " ('B05', 'topology_only'),\n",
       " ('B05', 'normalized_ranks'),\n",
       " ('B05', 'normalized_scores'),\n",
       " ('Q95', 'topology_only'),\n",
       " ('Q95', 'normalized_ranks'),\n",
       " ('Q95', 'normalized_scores'),\n",
       " ('B68', 'topology_only'),\n",
       " ('B68', 'normalized_ranks'),\n",
       " ('B68', 'normalized_scores'),\n",
       " ('H22', 'topology_only'),\n",
       " ('H22', 'normalized_ranks'),\n",
       " ('H22', 'normalized_scores'),\n",
       " ('K03', 'topology_only'),\n",
       " ('K03', 'normalized_ranks'),\n",
       " ('K03', 'normalized_scores'),\n",
       " ('G13', 'topology_only'),\n",
       " ('G13', 'normalized_ranks'),\n",
       " ('G13', 'normalized_scores'),\n",
       " ('B45', 'topology_only'),\n",
       " ('B45', 'normalized_ranks'),\n",
       " ('B45', 'normalized_scores'),\n",
       " ('A16', 'topology_only'),\n",
       " ('A16', 'normalized_ranks'),\n",
       " ('A16', 'normalized_scores'),\n",
       " ('N99', 'topology_only'),\n",
       " ('N99', 'normalized_ranks'),\n",
       " ('N99', 'normalized_scores'),\n",
       " ('J35', 'topology_only'),\n",
       " ('J35', 'normalized_ranks'),\n",
       " ('J35', 'normalized_scores'),\n",
       " ('J84', 'topology_only'),\n",
       " ('J84', 'normalized_ranks'),\n",
       " ('J84', 'normalized_scores'),\n",
       " ('H51', 'topology_only'),\n",
       " ('H51', 'normalized_ranks'),\n",
       " ('H51', 'normalized_scores'),\n",
       " ('J02', 'topology_only'),\n",
       " ('J02', 'normalized_ranks'),\n",
       " ('J02', 'normalized_scores'),\n",
       " ('Q06', 'topology_only'),\n",
       " ('Q06', 'normalized_ranks'),\n",
       " ('Q06', 'normalized_scores'),\n",
       " ('C55', 'topology_only'),\n",
       " ('C55', 'normalized_ranks'),\n",
       " ('C55', 'normalized_scores'),\n",
       " ('F60', 'topology_only'),\n",
       " ('F60', 'normalized_ranks'),\n",
       " ('F60', 'normalized_scores'),\n",
       " ('F13', 'topology_only'),\n",
       " ('F13', 'normalized_ranks'),\n",
       " ('F13', 'normalized_scores'),\n",
       " ('K30', 'topology_only'),\n",
       " ('K30', 'normalized_ranks'),\n",
       " ('K30', 'normalized_scores'),\n",
       " ('Q24', 'topology_only'),\n",
       " ('Q24', 'normalized_ranks'),\n",
       " ('Q24', 'normalized_scores'),\n",
       " ('K21', 'topology_only'),\n",
       " ('K21', 'normalized_ranks'),\n",
       " ('K21', 'normalized_scores'),\n",
       " ('I97', 'topology_only'),\n",
       " ('I97', 'normalized_ranks'),\n",
       " ('I97', 'normalized_scores'),\n",
       " ('I68', 'topology_only'),\n",
       " ('I68', 'normalized_ranks'),\n",
       " ('I68', 'normalized_scores'),\n",
       " ('H16', 'topology_only'),\n",
       " ('H16', 'normalized_ranks'),\n",
       " ('H16', 'normalized_scores'),\n",
       " ('I20', 'topology_only'),\n",
       " ('I20', 'normalized_ranks'),\n",
       " ('I20', 'normalized_scores'),\n",
       " ('M34', 'topology_only'),\n",
       " ('M34', 'normalized_ranks'),\n",
       " ('M34', 'normalized_scores'),\n",
       " ('D57', 'topology_only'),\n",
       " ('D57', 'normalized_ranks'),\n",
       " ('D57', 'normalized_scores'),\n",
       " ('M00', 'topology_only'),\n",
       " ('M00', 'normalized_ranks'),\n",
       " ('M00', 'normalized_scores'),\n",
       " ('K58', 'topology_only'),\n",
       " ('K58', 'normalized_ranks'),\n",
       " ('K58', 'normalized_scores'),\n",
       " ('B70', 'topology_only'),\n",
       " ('B70', 'normalized_ranks'),\n",
       " ('B70', 'normalized_scores'),\n",
       " ('Q98', 'topology_only'),\n",
       " ('Q98', 'normalized_ranks'),\n",
       " ('Q98', 'normalized_scores'),\n",
       " ('C96', 'topology_only'),\n",
       " ('C96', 'normalized_ranks'),\n",
       " ('C96', 'normalized_scores'),\n",
       " ('Q85', 'topology_only'),\n",
       " ('Q85', 'normalized_ranks'),\n",
       " ('Q85', 'normalized_scores'),\n",
       " ('L29', 'topology_only'),\n",
       " ('L29', 'normalized_ranks'),\n",
       " ('L29', 'normalized_scores'),\n",
       " ('B35', 'topology_only'),\n",
       " ('B35', 'normalized_ranks'),\n",
       " ('B35', 'normalized_scores'),\n",
       " ('L03', 'topology_only'),\n",
       " ('L03', 'normalized_ranks'),\n",
       " ('L03', 'normalized_scores'),\n",
       " ('A50', 'topology_only'),\n",
       " ('A50', 'normalized_ranks'),\n",
       " ('A50', 'normalized_scores'),\n",
       " ('K04', 'topology_only'),\n",
       " ('K04', 'normalized_ranks'),\n",
       " ('K04', 'normalized_scores'),\n",
       " ('B20', 'topology_only'),\n",
       " ('B20', 'normalized_ranks'),\n",
       " ('B20', 'normalized_scores'),\n",
       " ('L99', 'topology_only'),\n",
       " ('L99', 'normalized_ranks'),\n",
       " ('L99', 'normalized_scores'),\n",
       " ('M61', 'topology_only'),\n",
       " ('M61', 'normalized_ranks'),\n",
       " ('M61', 'normalized_scores'),\n",
       " ('K44', 'topology_only'),\n",
       " ('K44', 'normalized_ranks'),\n",
       " ('K44', 'normalized_scores'),\n",
       " ('A37', 'topology_only'),\n",
       " ('A37', 'normalized_ranks'),\n",
       " ('A37', 'normalized_scores'),\n",
       " ('F40', 'topology_only'),\n",
       " ('F40', 'normalized_ranks'),\n",
       " ('F40', 'normalized_scores'),\n",
       " ('E44', 'topology_only'),\n",
       " ('E44', 'normalized_ranks'),\n",
       " ('E44', 'normalized_scores'),\n",
       " ('L54', 'topology_only'),\n",
       " ('L54', 'normalized_ranks'),\n",
       " ('L54', 'normalized_scores'),\n",
       " ('C82', 'topology_only'),\n",
       " ('C82', 'normalized_ranks'),\n",
       " ('C82', 'normalized_scores'),\n",
       " ('Q04', 'topology_only'),\n",
       " ('Q04', 'normalized_ranks'),\n",
       " ('Q04', 'normalized_scores'),\n",
       " ('Q67', 'topology_only'),\n",
       " ('Q67', 'normalized_ranks'),\n",
       " ('Q67', 'normalized_scores'),\n",
       " ('M30', 'topology_only'),\n",
       " ('M30', 'normalized_ranks'),\n",
       " ('M30', 'normalized_scores'),\n",
       " ('J17', 'topology_only'),\n",
       " ('J17', 'normalized_ranks'),\n",
       " ('J17', 'normalized_scores'),\n",
       " ('D23', 'topology_only'),\n",
       " ('D23', 'normalized_ranks'),\n",
       " ('D23', 'normalized_scores'),\n",
       " ('D65', 'topology_only'),\n",
       " ('D65', 'normalized_ranks'),\n",
       " ('D65', 'normalized_scores'),\n",
       " ('E66', 'topology_only'),\n",
       " ('E66', 'normalized_ranks'),\n",
       " ('E66', 'normalized_scores'),\n",
       " ('E41', 'topology_only'),\n",
       " ('E41', 'normalized_ranks'),\n",
       " ('E41', 'normalized_scores'),\n",
       " ('C91', 'topology_only'),\n",
       " ('C91', 'normalized_ranks'),\n",
       " ('C91', 'normalized_scores'),\n",
       " ('L50', 'topology_only'),\n",
       " ('L50', 'normalized_ranks'),\n",
       " ('L50', 'normalized_scores'),\n",
       " ('D01', 'topology_only'),\n",
       " ('D01', 'normalized_ranks'),\n",
       " ('D01', 'normalized_scores'),\n",
       " ('N49', 'topology_only'),\n",
       " ('N49', 'normalized_ranks'),\n",
       " ('N49', 'normalized_scores'),\n",
       " ('H91', 'topology_only'),\n",
       " ('H91', 'normalized_ranks'),\n",
       " ('H91', 'normalized_scores'),\n",
       " ('G73', 'topology_only'),\n",
       " ('G73', 'normalized_ranks'),\n",
       " ('G73', 'normalized_scores'),\n",
       " ('H28', 'topology_only'),\n",
       " ('H28', 'normalized_ranks'),\n",
       " ('H28', 'normalized_scores'),\n",
       " ('M19', 'topology_only'),\n",
       " ('M19', 'normalized_ranks'),\n",
       " ('M19', 'normalized_scores'),\n",
       " ('E34', 'topology_only'),\n",
       " ('E34', 'normalized_ranks'),\n",
       " ('E34', 'normalized_scores'),\n",
       " ('A89', 'topology_only'),\n",
       " ('A89', 'normalized_ranks'),\n",
       " ('A89', 'normalized_scores'),\n",
       " ('A09', 'topology_only'),\n",
       " ('A09', 'normalized_ranks'),\n",
       " ('A09', 'normalized_scores'),\n",
       " ('B06', 'topology_only'),\n",
       " ('B06', 'normalized_ranks'),\n",
       " ('B06', 'normalized_scores'),\n",
       " ('B83', 'topology_only'),\n",
       " ('B83', 'normalized_ranks'),\n",
       " ('B83', 'normalized_scores'),\n",
       " ('C18', 'topology_only'),\n",
       " ('C18', 'normalized_ranks'),\n",
       " ('C18', 'normalized_scores'),\n",
       " ('C39', 'topology_only'),\n",
       " ('C39', 'normalized_ranks'),\n",
       " ('C39', 'normalized_scores'),\n",
       " ('F16', 'topology_only'),\n",
       " ('F16', 'normalized_ranks'),\n",
       " ('F16', 'normalized_scores'),\n",
       " ('H03', 'topology_only'),\n",
       " ('H03', 'normalized_ranks'),\n",
       " ('H03', 'normalized_scores'),\n",
       " ('J46', 'topology_only'),\n",
       " ('J46', 'normalized_ranks'),\n",
       " ('J46', 'normalized_scores'),\n",
       " ('L84', 'topology_only'),\n",
       " ('L84', 'normalized_ranks'),\n",
       " ('L84', 'normalized_scores'),\n",
       " ('Q86', 'topology_only'),\n",
       " ('Q86', 'normalized_ranks'),\n",
       " ('Q86', 'normalized_scores'),\n",
       " ('J00', 'topology_only'),\n",
       " ('J00', 'normalized_ranks'),\n",
       " ('J00', 'normalized_scores'),\n",
       " ('K28', 'topology_only'),\n",
       " ('K28', 'normalized_ranks'),\n",
       " ('K28', 'normalized_scores'),\n",
       " ('H20', 'topology_only'),\n",
       " ('H20', 'normalized_ranks'),\n",
       " ('H20', 'normalized_scores'),\n",
       " ('G57', 'topology_only'),\n",
       " ('G57', 'normalized_ranks'),\n",
       " ('G57', 'normalized_scores'),\n",
       " ('F98', 'topology_only'),\n",
       " ('F98', 'normalized_ranks'),\n",
       " ('F98', 'normalized_scores'),\n",
       " ('B99', 'topology_only'),\n",
       " ('B99', 'normalized_ranks'),\n",
       " ('B99', 'normalized_scores'),\n",
       " ('G45', 'topology_only'),\n",
       " ('G45', 'normalized_ranks'),\n",
       " ('G45', 'normalized_scores'),\n",
       " ('N22', 'topology_only'),\n",
       " ('N22', 'normalized_ranks'),\n",
       " ('N22', 'normalized_scores'),\n",
       " ('B51', 'topology_only'),\n",
       " ('B51', 'normalized_ranks'),\n",
       " ('B51', 'normalized_scores'),\n",
       " ('D39', 'topology_only'),\n",
       " ('D39', 'normalized_ranks'),\n",
       " ('D39', 'normalized_scores'),\n",
       " ('Q16', 'topology_only'),\n",
       " ('Q16', 'normalized_ranks'),\n",
       " ('Q16', 'normalized_scores'),\n",
       " ('E11', 'topology_only'),\n",
       " ('E11', 'normalized_ranks'),\n",
       " ('E11', 'normalized_scores'),\n",
       " ('A27', 'topology_only'),\n",
       " ('A27', 'normalized_ranks'),\n",
       " ('A27', 'normalized_scores'),\n",
       " ('K90', 'topology_only'),\n",
       " ('K90', 'normalized_ranks'),\n",
       " ('K90', 'normalized_scores'),\n",
       " ('J85', 'topology_only'),\n",
       " ('J85', 'normalized_ranks'),\n",
       " ('J85', 'normalized_scores'),\n",
       " ('M08', 'topology_only'),\n",
       " ('M08', 'normalized_ranks'),\n",
       " ('M08', 'normalized_scores'),\n",
       " ('J65', 'topology_only'),\n",
       " ('J65', 'normalized_ranks'),\n",
       " ('J65', 'normalized_scores'),\n",
       " ('L02', 'topology_only'),\n",
       " ('L02', 'normalized_ranks'),\n",
       " ('L02', 'normalized_scores'),\n",
       " ('M45', 'topology_only'),\n",
       " ('M45', 'normalized_ranks'),\n",
       " ('M45', 'normalized_scores'),\n",
       " ('I64', 'topology_only'),\n",
       " ('I64', 'normalized_ranks'),\n",
       " ('I64', 'normalized_scores'),\n",
       " ('D38', 'topology_only'),\n",
       " ('D38', 'normalized_ranks'),\n",
       " ('D38', 'normalized_scores'),\n",
       " ('G81', 'topology_only'),\n",
       " ('G81', 'normalized_ranks'),\n",
       " ('G81', 'normalized_scores'),\n",
       " ('F43', 'topology_only'),\n",
       " ('F43', 'normalized_ranks'),\n",
       " ('F43', 'normalized_scores'),\n",
       " ('J93', 'topology_only'),\n",
       " ('J93', 'normalized_ranks'),\n",
       " ('J93', 'normalized_scores'),\n",
       " ('M22', 'topology_only'),\n",
       " ('M22', 'normalized_ranks'),\n",
       " ('M22', 'normalized_scores'),\n",
       " ('M87', 'topology_only'),\n",
       " ('M87', 'normalized_ranks'),\n",
       " ('M87', 'normalized_scores'),\n",
       " ('D50', 'topology_only'),\n",
       " ('D50', 'normalized_ranks'),\n",
       " ('D50', 'normalized_scores'),\n",
       " ('G12', 'topology_only'),\n",
       " ('G12', 'normalized_ranks'),\n",
       " ('G12', 'normalized_scores'),\n",
       " ('N98', 'topology_only'),\n",
       " ('N98', 'normalized_ranks'),\n",
       " ('N98', 'normalized_scores'),\n",
       " ('L10', 'topology_only'),\n",
       " ('L10', 'normalized_ranks'),\n",
       " ('L10', 'normalized_scores'),\n",
       " ('H17', 'topology_only'),\n",
       " ('H17', 'normalized_ranks'),\n",
       " ('H17', 'normalized_scores'),\n",
       " ('F52', 'topology_only'),\n",
       " ('F52', 'normalized_ranks'),\n",
       " ('F52', 'normalized_scores'),\n",
       " ('D30', 'topology_only'),\n",
       " ('D30', 'normalized_ranks'),\n",
       " ('D30', 'normalized_scores'),\n",
       " ('M47', 'topology_only'),\n",
       " ('M47', 'normalized_ranks'),\n",
       " ('M47', 'normalized_scores'),\n",
       " ('A64', 'topology_only'),\n",
       " ('A64', 'normalized_ranks'),\n",
       " ('A64', 'normalized_scores'),\n",
       " ('Q37', 'topology_only'),\n",
       " ('Q37', 'normalized_ranks'),\n",
       " ('Q37', 'normalized_scores'),\n",
       " ('J09', 'topology_only'),\n",
       " ('J09', 'normalized_ranks'),\n",
       " ('J09', 'normalized_scores'),\n",
       " ('K31', 'topology_only'),\n",
       " ('K31', 'normalized_ranks'),\n",
       " ('K31', 'normalized_scores'),\n",
       " ('M51', 'topology_only'),\n",
       " ('M51', 'normalized_ranks'),\n",
       " ('M51', 'normalized_scores'),\n",
       " ('J06', 'topology_only'),\n",
       " ('J06', 'normalized_ranks'),\n",
       " ('J06', 'normalized_scores'),\n",
       " ('H66', 'topology_only'),\n",
       " ('H66', 'normalized_ranks'),\n",
       " ('H66', 'normalized_scores'),\n",
       " ('E04', 'topology_only'),\n",
       " ('E04', 'normalized_ranks'),\n",
       " ('E04', 'normalized_scores'),\n",
       " ('I15', 'topology_only'),\n",
       " ('I15', 'normalized_ranks'),\n",
       " ('I15', 'normalized_scores'),\n",
       " ('K77', 'topology_only'),\n",
       " ('K77', 'normalized_ranks'),\n",
       " ('K77', 'normalized_scores'),\n",
       " ('H33', 'topology_only'),\n",
       " ('H33', 'normalized_ranks'),\n",
       " ('H33', 'normalized_scores'),\n",
       " ('E84', 'topology_only'),\n",
       " ('E84', 'normalized_ranks'),\n",
       " ('E84', 'normalized_scores'),\n",
       " ('J80', 'topology_only'),\n",
       " ('J80', 'normalized_ranks'),\n",
       " ('J80', 'normalized_scores'),\n",
       " ('Q54', 'topology_only'),\n",
       " ('Q54', 'normalized_ranks'),\n",
       " ('Q54', 'normalized_scores'),\n",
       " ('G52', 'topology_only'),\n",
       " ('G52', 'normalized_ranks'),\n",
       " ('G52', 'normalized_scores'),\n",
       " ('E20', 'topology_only'),\n",
       " ('E20', 'normalized_ranks'),\n",
       " ('E20', 'normalized_scores'),\n",
       " ('C24', 'topology_only'),\n",
       " ('C24', 'normalized_ranks'),\n",
       " ('C24', 'normalized_scores'),\n",
       " ('N71', 'topology_only'),\n",
       " ('N71', 'normalized_ranks'),\n",
       " ('N71', 'normalized_scores'),\n",
       " ('D84', 'topology_only'),\n",
       " ('D84', 'normalized_ranks'),\n",
       " ('D84', 'normalized_scores'),\n",
       " ('I72', 'topology_only'),\n",
       " ('I72', 'normalized_ranks'),\n",
       " ('I72', 'normalized_scores'),\n",
       " ('K27', 'topology_only'),\n",
       " ('K27', 'normalized_ranks'),\n",
       " ('K27', 'normalized_scores'),\n",
       " ('M11', 'topology_only'),\n",
       " ('M11', 'normalized_ranks'),\n",
       " ('M11', 'normalized_scores'),\n",
       " ('B02', 'topology_only'),\n",
       " ('B02', 'normalized_ranks'),\n",
       " ('B02', 'normalized_scores'),\n",
       " ('K60', 'topology_only'),\n",
       " ('K60', 'normalized_ranks'),\n",
       " ('K60', 'normalized_scores'),\n",
       " ('N35', 'topology_only'),\n",
       " ('N35', 'normalized_ranks'),\n",
       " ('N35', 'normalized_scores'),\n",
       " ('N97', 'topology_only'),\n",
       " ('N97', 'normalized_ranks'),\n",
       " ('N97', 'normalized_scores'),\n",
       " ('Q51', 'topology_only'),\n",
       " ('Q51', 'normalized_ranks'),\n",
       " ('Q51', 'normalized_scores'),\n",
       " ('J16', 'topology_only'),\n",
       " ('J16', 'normalized_ranks'),\n",
       " ('J16', 'normalized_scores'),\n",
       " ('B94', 'topology_only'),\n",
       " ('B94', 'normalized_ranks'),\n",
       " ('B94', 'normalized_scores'),\n",
       " ('D48', 'topology_only'),\n",
       " ('D48', 'normalized_ranks'),\n",
       " ('D48', 'normalized_scores'),\n",
       " ('A40', 'topology_only'),\n",
       " ('A40', 'normalized_ranks'),\n",
       " ('A40', 'normalized_scores'),\n",
       " ('N88', 'topology_only'),\n",
       " ('N88', 'normalized_ranks'),\n",
       " ('N88', 'normalized_scores'),\n",
       " ('N42', 'topology_only'),\n",
       " ('N42', 'normalized_ranks'),\n",
       " ('N42', 'normalized_scores'),\n",
       " ('F23', 'topology_only'),\n",
       " ('F23', 'normalized_ranks'),\n",
       " ('F23', 'normalized_scores'),\n",
       " ('G32', 'topology_only'),\n",
       " ('G32', 'normalized_ranks'),\n",
       " ('G32', 'normalized_scores'),\n",
       " ('F25', 'topology_only'),\n",
       " ('F25', 'normalized_ranks'),\n",
       " ('F25', 'normalized_scores'),\n",
       " ('F31', 'topology_only'),\n",
       " ('F31', 'normalized_ranks'),\n",
       " ('F31', 'normalized_scores'),\n",
       " ('J66', 'topology_only'),\n",
       " ('J66', 'normalized_ranks'),\n",
       " ('J66', 'normalized_scores'),\n",
       " ('K67', 'topology_only'),\n",
       " ('K67', 'normalized_ranks'),\n",
       " ('K67', 'normalized_scores'),\n",
       " ('L41', 'topology_only'),\n",
       " ('L41', 'normalized_ranks'),\n",
       " ('L41', 'normalized_scores'),\n",
       " ('B85', 'topology_only'),\n",
       " ('B85', 'normalized_ranks'),\n",
       " ('B85', 'normalized_scores'),\n",
       " ('Q77', 'topology_only'),\n",
       " ('Q77', 'normalized_ranks'),\n",
       " ('Q77', 'normalized_scores'),\n",
       " ('M20', 'topology_only'),\n",
       " ('M20', 'normalized_ranks'),\n",
       " ('M20', 'normalized_scores'),\n",
       " ('B76', 'topology_only'),\n",
       " ('B76', 'normalized_ranks'),\n",
       " ('B76', 'normalized_scores'),\n",
       " ('D36', 'topology_only'),\n",
       " ('D36', 'normalized_ranks'),\n",
       " ('D36', 'normalized_scores'),\n",
       " ('H75', 'topology_only'),\n",
       " ('H75', 'normalized_ranks'),\n",
       " ('H75', 'normalized_scores'),\n",
       " ('F81', 'topology_only'),\n",
       " ('F81', 'normalized_ranks'),\n",
       " ('F81', 'normalized_scores'),\n",
       " ('J32', 'topology_only'),\n",
       " ('J32', 'normalized_ranks'),\n",
       " ('J32', 'normalized_scores'),\n",
       " ('D15', 'topology_only'),\n",
       " ('D15', 'normalized_ranks'),\n",
       " ('D15', 'normalized_scores'),\n",
       " ('L27', 'topology_only'),\n",
       " ('L27', 'normalized_ranks'),\n",
       " ('L27', 'normalized_scores'),\n",
       " ('F80', 'topology_only'),\n",
       " ('F80', 'normalized_ranks'),\n",
       " ('F80', 'normalized_scores'),\n",
       " ('M54', 'topology_only'),\n",
       " ('M54', 'normalized_ranks'),\n",
       " ('M54', 'normalized_scores'),\n",
       " ('L55', 'topology_only'),\n",
       " ('L55', 'normalized_ranks'),\n",
       " ('L55', 'normalized_scores'),\n",
       " ('L21', 'topology_only'),\n",
       " ('L21', 'normalized_ranks'),\n",
       " ('L21', 'normalized_scores'),\n",
       " ('H94', 'topology_only'),\n",
       " ('H94', 'normalized_ranks'),\n",
       " ('H94', 'normalized_scores'),\n",
       " ('Q64', 'topology_only'),\n",
       " ('Q64', 'normalized_ranks'),\n",
       " ('Q64', 'normalized_scores'),\n",
       " ('H80', 'topology_only'),\n",
       " ('H80', 'normalized_ranks'),\n",
       " ('H80', 'normalized_scores'),\n",
       " ('F02', 'topology_only'),\n",
       " ('F02', 'normalized_ranks'),\n",
       " ('F02', 'normalized_scores'),\n",
       " ('A59', 'topology_only'),\n",
       " ('A59', 'normalized_ranks'),\n",
       " ('A59', 'normalized_scores'),\n",
       " ('J34', 'topology_only'),\n",
       " ('J34', 'normalized_ranks'),\n",
       " ('J34', 'normalized_scores'),\n",
       " ('E85', 'topology_only'),\n",
       " ('E85', 'normalized_ranks'),\n",
       " ('E85', 'normalized_scores'),\n",
       " ('B18', 'topology_only'),\n",
       " ('B18', 'normalized_ranks'),\n",
       " ('B18', 'normalized_scores'),\n",
       " ('F06', 'topology_only'),\n",
       " ('F06', 'normalized_ranks'),\n",
       " ('F06', 'normalized_scores'),\n",
       " ('E07', 'topology_only'),\n",
       " ('E07', 'normalized_ranks'),\n",
       " ('E07', 'normalized_scores'),\n",
       " ('N30', 'topology_only'),\n",
       " ('N30', 'normalized_ranks'),\n",
       " ('N30', 'normalized_scores'),\n",
       " ('C02', 'topology_only'),\n",
       " ('C02', 'normalized_ranks'),\n",
       " ('C02', 'normalized_scores'),\n",
       " ('F65', 'topology_only'),\n",
       " ('F65', 'normalized_ranks'),\n",
       " ('F65', 'normalized_scores'),\n",
       " ('E74', 'topology_only'),\n",
       " ('E74', 'normalized_ranks'),\n",
       " ('E74', 'normalized_scores'),\n",
       " ('Q35', 'topology_only'),\n",
       " ('Q35', 'normalized_ranks'),\n",
       " ('Q35', 'normalized_scores'),\n",
       " ('M21', 'topology_only'),\n",
       " ('M21', 'normalized_ranks'),\n",
       " ('M21', 'normalized_scores'),\n",
       " ('D63', 'topology_only'),\n",
       " ('D63', 'normalized_ranks'),\n",
       " ('D63', 'normalized_scores'),\n",
       " ('E70', 'topology_only'),\n",
       " ('E70', 'normalized_ranks'),\n",
       " ('E70', 'normalized_scores'),\n",
       " ('H02', 'topology_only'),\n",
       " ('H02', 'normalized_ranks'),\n",
       " ('H02', 'normalized_scores'),\n",
       " ('D18', 'topology_only'),\n",
       " ('D18', 'normalized_ranks'),\n",
       " ('D18', 'normalized_scores'),\n",
       " ('Q96', 'topology_only'),\n",
       " ('Q96', 'normalized_ranks'),\n",
       " ('Q96', 'normalized_scores'),\n",
       " ('D21', 'topology_only'),\n",
       " ('D21', 'normalized_ranks'),\n",
       " ('D21', 'normalized_scores'),\n",
       " ('F92', 'topology_only'),\n",
       " ('F92', 'normalized_ranks'),\n",
       " ('F92', 'normalized_scores'),\n",
       " ('C00', 'topology_only'),\n",
       " ('C00', 'normalized_ranks'),\n",
       " ('C00', 'normalized_scores'),\n",
       " ('D73', 'topology_only'),\n",
       " ('D73', 'normalized_ranks'),\n",
       " ('D73', 'normalized_scores'),\n",
       " ('M95', 'topology_only'),\n",
       " ('M95', 'normalized_ranks'),\n",
       " ('M95', 'normalized_scores'),\n",
       " ('B87', 'topology_only'),\n",
       " ('B87', 'normalized_ranks'),\n",
       " ('B87', 'normalized_scores'),\n",
       " ('N21', 'topology_only'),\n",
       " ('N21', 'normalized_ranks'),\n",
       " ('N21', 'normalized_scores'),\n",
       " ('M84', 'topology_only'),\n",
       " ('M84', 'normalized_ranks'),\n",
       " ('M84', 'normalized_scores'),\n",
       " ('I71', 'topology_only'),\n",
       " ('I71', 'normalized_ranks'),\n",
       " ('I71', 'normalized_scores'),\n",
       " ('L57', 'topology_only'),\n",
       " ('L57', 'normalized_ranks'),\n",
       " ('L57', 'normalized_scores'),\n",
       " ('L26', 'topology_only'),\n",
       " ('L26', 'normalized_ranks'),\n",
       " ('L26', 'normalized_scores'),\n",
       " ('A66', 'topology_only'),\n",
       " ('A66', 'normalized_ranks'),\n",
       " ('A66', 'normalized_scores'),\n",
       " ('H34', 'topology_only'),\n",
       " ('H34', 'normalized_ranks'),\n",
       " ('H34', 'normalized_scores'),\n",
       " ('L83', 'topology_only'),\n",
       " ('L83', 'normalized_ranks'),\n",
       " ('L83', 'normalized_scores'),\n",
       " ('E02', 'topology_only'),\n",
       " ('E02', 'normalized_ranks'),\n",
       " ('E02', 'normalized_scores'),\n",
       " ('L66', 'topology_only'),\n",
       " ('L66', 'normalized_ranks'),\n",
       " ('L66', 'normalized_scores'),\n",
       " ('J44', 'topology_only'),\n",
       " ('J44', 'normalized_ranks'),\n",
       " ('J44', 'normalized_scores'),\n",
       " ('L73', 'topology_only'),\n",
       " ('L73', 'normalized_ranks'),\n",
       " ('L73', 'normalized_scores'),\n",
       " ('E56', 'topology_only'),\n",
       " ('E56', 'normalized_ranks'),\n",
       " ('E56', 'normalized_scores'),\n",
       " ('N29', 'topology_only'),\n",
       " ('N29', 'normalized_ranks'),\n",
       " ('N29', 'normalized_scores'),\n",
       " ('I45', 'topology_only'),\n",
       " ('I45', 'normalized_ranks'),\n",
       " ('I45', 'normalized_scores'),\n",
       " ('Q05', 'topology_only'),\n",
       " ('Q05', 'normalized_ranks'),\n",
       " ('Q05', 'normalized_scores'),\n",
       " ('I39', 'topology_only'),\n",
       " ('I39', 'normalized_ranks'),\n",
       " ('I39', 'normalized_scores'),\n",
       " ('E78', 'topology_only'),\n",
       " ('E78', 'normalized_ranks'),\n",
       " ('E78', 'normalized_scores'),\n",
       " ('A80', 'topology_only'),\n",
       " ('A80', 'normalized_ranks'),\n",
       " ('A80', 'normalized_scores'),\n",
       " ('F72', 'topology_only'),\n",
       " ('F72', 'normalized_ranks'),\n",
       " ('F72', 'normalized_scores'),\n",
       " ('J86', 'topology_only'),\n",
       " ('J86', 'normalized_ranks'),\n",
       " ('J86', 'normalized_scores'),\n",
       " ('C09', 'topology_only'),\n",
       " ('C09', 'normalized_ranks'),\n",
       " ('C09', 'normalized_scores'),\n",
       " ('Q55', 'topology_only'),\n",
       " ('Q55', 'normalized_ranks'),\n",
       " ('Q55', 'normalized_scores'),\n",
       " ('N51', 'topology_only'),\n",
       " ('N51', 'normalized_ranks'),\n",
       " ('N51', 'normalized_scores'),\n",
       " ('H44', 'topology_only'),\n",
       " ('H44', 'normalized_ranks'),\n",
       " ('H44', 'normalized_scores'),\n",
       " ('D44', 'topology_only'),\n",
       " ('D44', 'normalized_ranks'),\n",
       " ('D44', 'normalized_scores'),\n",
       " ('K12', 'topology_only'),\n",
       " ('K12', 'normalized_ranks'),\n",
       " ('K12', 'normalized_scores'),\n",
       " ('B19', 'topology_only'),\n",
       " ('B19', 'normalized_ranks'),\n",
       " ('B19', 'normalized_scores'),\n",
       " ('A38', 'topology_only'),\n",
       " ('A38', 'normalized_ranks'),\n",
       " ('A38', 'normalized_scores'),\n",
       " ('J11', 'topology_only'),\n",
       " ('J11', 'normalized_ranks'),\n",
       " ('J11', 'normalized_scores'),\n",
       " ('C07', 'topology_only'),\n",
       " ('C07', 'normalized_ranks'),\n",
       " ('C07', 'normalized_scores'),\n",
       " ('Q44', 'topology_only'),\n",
       " ('Q44', 'normalized_ranks'),\n",
       " ('Q44', 'normalized_scores'),\n",
       " ('F84', 'topology_only'),\n",
       " ('F84', 'normalized_ranks'),\n",
       " ('F84', 'normalized_scores'),\n",
       " ('C53', 'topology_only'),\n",
       " ('C53', 'normalized_ranks'),\n",
       " ('C53', 'normalized_scores'),\n",
       " ('K29', 'topology_only'),\n",
       " ('K29', 'normalized_ranks'),\n",
       " ('K29', 'normalized_scores'),\n",
       " ('Q68', 'topology_only'),\n",
       " ('Q68', 'normalized_ranks'),\n",
       " ('Q68', 'normalized_scores'),\n",
       " ('Q22', 'topology_only'),\n",
       " ('Q22', 'normalized_ranks'),\n",
       " ('Q22', 'normalized_scores'),\n",
       " ('I46', 'topology_only'),\n",
       " ('I46', 'normalized_ranks'),\n",
       " ('I46', 'normalized_scores'),\n",
       " ('G43', 'topology_only'),\n",
       " ('G43', 'normalized_ranks'),\n",
       " ('G43', 'normalized_scores'),\n",
       " ('D25', 'topology_only'),\n",
       " ('D25', 'normalized_ranks'),\n",
       " ('D25', 'normalized_scores'),\n",
       " ('J10', 'topology_only'),\n",
       " ('J10', 'normalized_ranks'),\n",
       " ('J10', 'normalized_scores'),\n",
       " ('A44', 'topology_only'),\n",
       " ('A44', 'normalized_ranks'),\n",
       " ('A44', 'normalized_scores'),\n",
       " ('B08', 'topology_only'),\n",
       " ('B08', 'normalized_ranks'),\n",
       " ('B08', 'normalized_scores'),\n",
       " ('G36', 'topology_only'),\n",
       " ('G36', 'normalized_ranks'),\n",
       " ('G36', 'normalized_scores'),\n",
       " ('C12', 'topology_only'),\n",
       " ('C12', 'normalized_ranks'),\n",
       " ('C12', 'normalized_scores'),\n",
       " ('D55', 'topology_only'),\n",
       " ('D55', 'normalized_ranks'),\n",
       " ('D55', 'normalized_scores'),\n",
       " ('B49', 'topology_only'),\n",
       " ('B49', 'normalized_ranks'),\n",
       " ('B49', 'normalized_scores'),\n",
       " ('I40', 'topology_only'),\n",
       " ('I40', 'normalized_ranks'),\n",
       " ('I40', 'normalized_scores'),\n",
       " ('J90', 'topology_only'),\n",
       " ('J90', 'normalized_ranks'),\n",
       " ('J90', 'normalized_scores'),\n",
       " ('A06', 'topology_only'),\n",
       " ('A06', 'normalized_ranks'),\n",
       " ('A06', 'normalized_scores'),\n",
       " ('K25', 'topology_only'),\n",
       " ('K25', 'normalized_ranks'),\n",
       " ('K25', 'normalized_scores'),\n",
       " ('F90', 'topology_only'),\n",
       " ('F90', 'normalized_ranks'),\n",
       " ('F90', 'normalized_scores'),\n",
       " ('B65', 'topology_only'),\n",
       " ('B65', 'normalized_ranks'),\n",
       " ('B65', 'normalized_scores'),\n",
       " ('B52', 'topology_only'),\n",
       " ('B52', 'normalized_ranks'),\n",
       " ('B52', 'normalized_scores'),\n",
       " ('J05', 'topology_only'),\n",
       " ('J05', 'normalized_ranks'),\n",
       " ('J05', 'normalized_scores'),\n",
       " ('J39', 'topology_only'),\n",
       " ('J39', 'normalized_ranks'),\n",
       " ('J39', 'normalized_scores'),\n",
       " ('G95', 'topology_only'),\n",
       " ('G95', 'normalized_ranks'),\n",
       " ('G95', 'normalized_scores'),\n",
       " ('G09', 'topology_only'),\n",
       " ('G09', 'normalized_ranks'),\n",
       " ('G09', 'normalized_scores'),\n",
       " ('I21', 'topology_only'),\n",
       " ('I21', 'normalized_ranks'),\n",
       " ('I21', 'normalized_scores'),\n",
       " ('G58', 'topology_only'),\n",
       " ('G58', 'normalized_ranks'),\n",
       " ('G58', 'normalized_scores'),\n",
       " ('L51', 'topology_only'),\n",
       " ('L51', 'normalized_ranks'),\n",
       " ('L51', 'normalized_scores'),\n",
       " ('I70', 'topology_only'),\n",
       " ('I70', 'normalized_ranks'),\n",
       " ('I70', 'normalized_scores'),\n",
       " ('N37', 'topology_only'),\n",
       " ('N37', 'normalized_ranks'),\n",
       " ('N37', 'normalized_scores'),\n",
       " ('F99', 'topology_only'),\n",
       " ('F99', 'normalized_ranks'),\n",
       " ('F99', 'normalized_scores'),\n",
       " ('I24', 'topology_only'),\n",
       " ('I24', 'normalized_ranks'),\n",
       " ('I24', 'normalized_scores'),\n",
       " ('B82', 'topology_only'),\n",
       " ('B82', 'normalized_ranks'),\n",
       " ('B82', 'normalized_scores'),\n",
       " ('D80', 'topology_only'),\n",
       " ('D80', 'normalized_ranks'),\n",
       " ('D80', 'normalized_scores'),\n",
       " ('M49', 'topology_only'),\n",
       " ('M49', 'normalized_ranks'),\n",
       " ('M49', 'normalized_scores'),\n",
       " ('N64', 'topology_only'),\n",
       " ('N64', 'normalized_ranks'),\n",
       " ('N64', 'normalized_scores'),\n",
       " ('G01', 'topology_only'),\n",
       " ('G01', 'normalized_ranks'),\n",
       " ('G01', 'normalized_scores'),\n",
       " ('K80', 'topology_only'),\n",
       " ('K80', 'normalized_ranks'),\n",
       " ('K80', 'normalized_scores'),\n",
       " ('K91', 'topology_only'),\n",
       " ('K91', 'normalized_ranks'),\n",
       " ('K91', 'normalized_scores'),\n",
       " ('H82', 'topology_only'),\n",
       " ('H82', 'normalized_ranks'),\n",
       " ('H82', 'normalized_scores'),\n",
       " ('K35', 'topology_only'),\n",
       " ('K35', 'normalized_ranks'),\n",
       " ('K35', 'normalized_scores'),\n",
       " ('Q40', 'topology_only'),\n",
       " ('Q40', 'normalized_ranks'),\n",
       " ('Q40', 'normalized_scores'),\n",
       " ('M62', 'topology_only'),\n",
       " ('M62', 'normalized_ranks'),\n",
       " ('M62', 'normalized_scores'),\n",
       " ('N36', 'topology_only'),\n",
       " ('N36', 'normalized_ranks'),\n",
       " ('N36', 'normalized_scores'),\n",
       " ('H69', 'topology_only'),\n",
       " ('H69', 'normalized_ranks'),\n",
       " ('H69', 'normalized_scores'),\n",
       " ('N08', 'topology_only'),\n",
       " ('N08', 'normalized_ranks'),\n",
       " ('N08', 'normalized_scores'),\n",
       " ('K61', 'topology_only'),\n",
       " ('K61', 'normalized_ranks'),\n",
       " ('K61', 'normalized_scores'),\n",
       " ('Q10', 'topology_only'),\n",
       " ('Q10', 'normalized_ranks'),\n",
       " ('Q10', 'normalized_scores'),\n",
       " ('A54', 'topology_only'),\n",
       " ('A54', 'normalized_ranks'),\n",
       " ('A54', 'normalized_scores'),\n",
       " ('Q82', 'topology_only'),\n",
       " ('Q82', 'normalized_ranks'),\n",
       " ('Q82', 'normalized_scores'),\n",
       " ('A60', 'topology_only'),\n",
       " ('A60', 'normalized_ranks'),\n",
       " ('A60', 'normalized_scores'),\n",
       " ('J94', 'topology_only'),\n",
       " ('J94', 'normalized_ranks'),\n",
       " ('J94', 'normalized_scores'),\n",
       " ('L13', 'topology_only'),\n",
       " ('L13', 'normalized_ranks'),\n",
       " ('L13', 'normalized_scores'),\n",
       " ('N40', 'topology_only'),\n",
       " ('N40', 'normalized_ranks'),\n",
       " ('N40', 'normalized_scores'),\n",
       " ('H00', 'topology_only'),\n",
       " ('H00', 'normalized_ranks'),\n",
       " ('H00', 'normalized_scores'),\n",
       " ('F03', 'topology_only'),\n",
       " ('F03', 'normalized_ranks'),\n",
       " ('F03', 'normalized_scores'),\n",
       " ('F45', 'topology_only'),\n",
       " ('F45', 'normalized_ranks'),\n",
       " ('F45', 'normalized_scores'),\n",
       " ('M91', 'topology_only'),\n",
       " ('M91', 'normalized_ranks'),\n",
       " ('M91', 'normalized_scores'),\n",
       " ('C71', 'topology_only'),\n",
       " ('C71', 'normalized_ranks'),\n",
       " ('C71', 'normalized_scores'),\n",
       " ('F34', 'topology_only'),\n",
       " ('F34', 'normalized_ranks'),\n",
       " ('F34', 'normalized_scores'),\n",
       " ('M86', 'topology_only'),\n",
       " ('M86', 'normalized_ranks'),\n",
       " ('M86', 'normalized_scores'),\n",
       " ('D82', 'topology_only'),\n",
       " ('D82', 'normalized_ranks'),\n",
       " ('D82', 'normalized_scores'),\n",
       " ('N91', 'topology_only'),\n",
       " ('N91', 'normalized_ranks'),\n",
       " ('N91', 'normalized_scores'),\n",
       " ('D12', 'topology_only'),\n",
       " ('D12', 'normalized_ranks'),\n",
       " ('D12', 'normalized_scores'),\n",
       " ('D47', 'topology_only'),\n",
       " ('D47', 'normalized_ranks'),\n",
       " ('D47', 'normalized_scores'),\n",
       " ('N81', 'topology_only'),\n",
       " ('N81', 'normalized_ranks'),\n",
       " ('N81', 'normalized_scores'),\n",
       " ('N19', 'topology_only'),\n",
       " ('N19', 'normalized_ranks'),\n",
       " ('N19', 'normalized_scores'),\n",
       " ('N17', 'topology_only'),\n",
       " ('N17', 'normalized_ranks'),\n",
       " ('N17', 'normalized_scores'),\n",
       " ('M17', 'topology_only'),\n",
       " ('M17', 'normalized_ranks'),\n",
       " ('M17', 'normalized_scores'),\n",
       " ('F61', 'topology_only'),\n",
       " ('F61', 'normalized_ranks'),\n",
       " ('F61', 'normalized_scores'),\n",
       " ('I13', 'topology_only'),\n",
       " ('I13', 'normalized_ranks'),\n",
       " ('I13', 'normalized_scores'),\n",
       " ('K00', 'topology_only'),\n",
       " ('K00', 'normalized_ranks'),\n",
       " ('K00', 'normalized_scores'),\n",
       " ('M53', 'topology_only'),\n",
       " ('M53', 'normalized_ranks'),\n",
       " ('M53', 'normalized_scores'),\n",
       " ('D31', 'topology_only'),\n",
       " ('D31', 'normalized_ranks'),\n",
       " ('D31', 'normalized_scores'),\n",
       " ('F05', 'topology_only'),\n",
       " ('F05', 'normalized_ranks'),\n",
       " ('F05', 'normalized_scores'),\n",
       " ('I10', 'topology_only'),\n",
       " ('I10', 'normalized_ranks'),\n",
       " ('I10', 'normalized_scores'),\n",
       " ('C94', 'topology_only'),\n",
       " ('C94', 'normalized_ranks'),\n",
       " ('C94', 'normalized_scores'),\n",
       " ('Q36', 'topology_only'),\n",
       " ('Q36', 'normalized_ranks'),\n",
       " ('Q36', 'normalized_scores'),\n",
       " ('M85', 'topology_only'),\n",
       " ('M85', 'normalized_ranks'),\n",
       " ('M85', 'normalized_scores'),\n",
       " ('D66', 'topology_only'),\n",
       " ('D66', 'normalized_ranks'),\n",
       " ('D66', 'normalized_scores'),\n",
       " ('E06', 'topology_only'),\n",
       " ('E06', 'normalized_ranks'),\n",
       " ('E06', 'normalized_scores'),\n",
       " ('C83', 'topology_only'),\n",
       " ('C83', 'normalized_ranks'),\n",
       " ('C83', 'normalized_scores'),\n",
       " ('G61', 'topology_only'),\n",
       " ('G61', 'normalized_ranks'),\n",
       " ('G61', 'normalized_scores'),\n",
       " ('N83', 'topology_only'),\n",
       " ('N83', 'normalized_ranks'),\n",
       " ('N83', 'normalized_scores'),\n",
       " ('B77', 'topology_only'),\n",
       " ('B77', 'normalized_ranks'),\n",
       " ('B77', 'normalized_scores'),\n",
       " ('N90', 'topology_only'),\n",
       " ('N90', 'normalized_ranks'),\n",
       " ('N90', 'normalized_scores'),\n",
       " ('C78', 'topology_only'),\n",
       " ('C78', 'normalized_ranks'),\n",
       " ('C78', 'normalized_scores'),\n",
       " ('B67', 'topology_only'),\n",
       " ('B67', 'normalized_ranks'),\n",
       " ('B67', 'normalized_scores'),\n",
       " ('E43', 'topology_only'),\n",
       " ('E43', 'normalized_ranks'),\n",
       " ('E43', 'normalized_scores'),\n",
       " ('C69', 'topology_only'),\n",
       " ...]"
      ]
     },
     "execution_count": 6,
     "metadata": {},
     "output_type": "execute_result"
    }
   ],
   "source": [
    "index = [(comp, dist_type) for comp in set(results['comparison']) for dist_type in set(results['distance_type'])]\n",
    "index"
   ]
  },
  {
   "cell_type": "markdown",
   "id": "productive-joshua",
   "metadata": {},
   "source": [
    "#### Empirical p-values for global distances"
   ]
  },
  {
   "cell_type": "code",
   "execution_count": 13,
   "id": "particular-racing",
   "metadata": {},
   "outputs": [
    {
     "data": {
      "text/html": [
       "<div>\n",
       "<style scoped>\n",
       "    .dataframe tbody tr th:only-of-type {\n",
       "        vertical-align: middle;\n",
       "    }\n",
       "\n",
       "    .dataframe tbody tr th {\n",
       "        vertical-align: top;\n",
       "    }\n",
       "\n",
       "    .dataframe thead th {\n",
       "        text-align: right;\n",
       "    }\n",
       "</style>\n",
       "<table border=\"1\" class=\"dataframe\">\n",
       "  <thead>\n",
       "    <tr style=\"text-align: right;\">\n",
       "      <th></th>\n",
       "      <th>distance_type</th>\n",
       "      <th>p_value</th>\n",
       "    </tr>\n",
       "  </thead>\n",
       "  <tbody>\n",
       "    <tr>\n",
       "      <th>0</th>\n",
       "      <td>topology_only</td>\n",
       "      <td>0.000999</td>\n",
       "    </tr>\n",
       "    <tr>\n",
       "      <th>1</th>\n",
       "      <td>normalized_ranks</td>\n",
       "      <td>0.000999</td>\n",
       "    </tr>\n",
       "    <tr>\n",
       "      <th>2</th>\n",
       "      <td>normalized_scores</td>\n",
       "      <td>0.000999</td>\n",
       "    </tr>\n",
       "  </tbody>\n",
       "</table>\n",
       "</div>"
      ],
      "text/plain": [
       "       distance_type   p_value\n",
       "0      topology_only  0.000999\n",
       "1   normalized_ranks  0.000999\n",
       "2  normalized_scores  0.000999"
      ]
     },
     "execution_count": 13,
     "metadata": {},
     "output_type": "execute_result"
    }
   ],
   "source": [
    "global_empirical_p_values = pd.read_csv('results/EST_global_empirical_p_values.csv')\n",
    "global_empirical_p_values"
   ]
  },
  {
   "cell_type": "markdown",
   "id": "violent-snapshot",
   "metadata": {},
   "source": [
    "- **$\\Longrightarrow$ Globally, there seems to be a non-random correlation.**"
   ]
  },
  {
   "cell_type": "markdown",
   "id": "official-beach",
   "metadata": {},
   "source": [
    "### Results for local, disease-specific distances\n",
    "\n",
    "#### Distributions of local distances for original and permuted networks"
   ]
  },
  {
   "cell_type": "code",
   "execution_count": 4,
   "id": "english-commitment",
   "metadata": {},
   "outputs": [
    {
     "data": {
      "text/plain": [
       "<seaborn.axisgrid.FacetGrid at 0x10a96cac0>"
      ]
     },
     "execution_count": 4,
     "metadata": {},
     "output_type": "execute_result"
    },
    {
     "data": {
      "image/png": "[encoded data removed]",
      "text/plain": [
       "<Figure size 421.25x360 with 1 Axes>"
      ]
     },
     "metadata": {
      "needs_background": "light"
     },
     "output_type": "display_data"
    }
   ],
   "source": [
    "sns.catplot(data=results[results['comparison'] != 'global'], x='distance_type', y='distance', hue='permuted', kind='box')"
   ]
  },
  {
   "cell_type": "markdown",
   "id": "pending-massachusetts",
   "metadata": {},
   "source": [
    "#### MWU p-values for local distances"
   ]
  },
  {
   "cell_type": "code",
   "execution_count": 6,
   "id": "comic-refrigerator",
   "metadata": {},
   "outputs": [
    {
     "data": {
      "text/html": [
       "<div>\n",
       "<style scoped>\n",
       "    .dataframe tbody tr th:only-of-type {\n",
       "        vertical-align: middle;\n",
       "    }\n",
       "\n",
       "    .dataframe tbody tr th {\n",
       "        vertical-align: top;\n",
       "    }\n",
       "\n",
       "    .dataframe thead th {\n",
       "        text-align: right;\n",
       "    }\n",
       "</style>\n",
       "<table border=\"1\" class=\"dataframe\">\n",
       "  <thead>\n",
       "    <tr style=\"text-align: right;\">\n",
       "      <th></th>\n",
       "      <th>distance_type</th>\n",
       "      <th>p_value</th>\n",
       "    </tr>\n",
       "  </thead>\n",
       "  <tbody>\n",
       "    <tr>\n",
       "      <th>0</th>\n",
       "      <td>topology_only</td>\n",
       "      <td>0.089569</td>\n",
       "    </tr>\n",
       "    <tr>\n",
       "      <th>1</th>\n",
       "      <td>normalized_ranks</td>\n",
       "      <td>0.014808</td>\n",
       "    </tr>\n",
       "    <tr>\n",
       "      <th>2</th>\n",
       "      <td>normalized_scores</td>\n",
       "      <td>0.070549</td>\n",
       "    </tr>\n",
       "  </tbody>\n",
       "</table>\n",
       "</div>"
      ],
      "text/plain": [
       "       distance_type   p_value\n",
       "0      topology_only  0.089569\n",
       "1   normalized_ranks  0.014808\n",
       "2  normalized_scores  0.070549"
      ]
     },
     "execution_count": 6,
     "metadata": {},
     "output_type": "execute_result"
    }
   ],
   "source": [
    "mwu_global_p_values = pd.read_csv('results/EST_global_mwu_p_values.csv')\n",
    "mwu_global_p_values "
   ]
  },
  {
   "cell_type": "markdown",
   "id": "given-clearance",
   "metadata": {},
   "source": [
    "#### Wilcoxon p-values for local distances"
   ]
  },
  {
   "cell_type": "markdown",
   "id": "opposed-bible",
   "metadata": {},
   "source": [
    "- $\\Longrightarrow$ When comparing disease-specific instead of network-wide distances, the differences between original and permuted networks are no longer significant.\n",
    "- **$\\Longrightarrow$ Signal seems to be so weak that it vanishes when zooming-in to the disease level.** "
   ]
  },
  {
   "cell_type": "markdown",
   "id": "cross-milwaukee",
   "metadata": {},
   "source": [
    "#### Local distances for ICD-10 chapters"
   ]
  },
  {
   "cell_type": "code",
   "execution_count": 65,
   "id": "graduate-syndicate",
   "metadata": {},
   "outputs": [
    {
     "data": {
      "image/png": "[encoded data removed]",
      "text/plain": [
       "<Figure size 1861.25x1080 with 15 Axes>"
      ]
     },
     "metadata": {
      "needs_background": "light"
     },
     "output_type": "display_data"
    }
   ],
   "source": [
    "local = results[results['chapter'] != 'Global']\n",
    "fig = sns.catplot(data=local, x='distance_type', y='distance', col='chapter', hue='permuted', col_wrap=5, kind='box')\n",
    "adjust_titles(fig, 60)"
   ]
  },
  {
   "cell_type": "code",
   "execution_count": 97,
   "id": "municipal-meeting",
   "metadata": {},
   "outputs": [
    {
     "name": "stdout",
     "output_type": "stream",
     "text": [
      "permuted                    False\n",
      "comparison                    A00\n",
      "distance                     12.0\n",
      "distance_type    normalized_ranks\n",
      "chapter                 Chapter 1\n",
      "range                     Range 1\n",
      "dtype: object\n"
     ]
    }
   ],
   "source": [
    "print(local.min())"
   ]
  },
  {
   "cell_type": "markdown",
   "id": "numerous-butler",
   "metadata": {},
   "source": [
    "#### MWU p-values for ICD-10 chapters"
   ]
  },
  {
   "cell_type": "code",
   "execution_count": 80,
   "id": "korean-faith",
   "metadata": {},
   "outputs": [
    {
     "data": {
      "image/png": "[encoded data removed]",
      "text/plain": [
       "<Figure size 1800x1080 with 15 Axes>"
      ]
     },
     "metadata": {
      "needs_background": "light"
     },
     "output_type": "display_data"
    }
   ],
   "source": [
    "chapters = [f'Chapter {i}' for i in list(range(1,15)) + [17]]\n",
    "mwu_chapter_p_values = pd.read_csv('results/EST_chapter_mwu_p_values.csv')\n",
    "mwu_chapter_p_values['-log10 p-value'] = mwu_chapter_p_values['p_value'].apply(lambda x: -np.log10(x))\n",
    "fig = sns.relplot(data=mwu_chapter_p_values, x='distance_type', y='-log10 p-value', col='chapter', col_order=chapters, col_wrap=5, s=100)\n",
    "add_significance_line(fig)\n",
    "adjust_titles(fig)"
   ]
  },
  {
   "cell_type": "markdown",
   "id": "outside-authentication",
   "metadata": {},
   "source": [
    "#### Wilcoxon p-values for ICD-10 chapters"
   ]
  },
  {
   "cell_type": "markdown",
   "id": "seeing-adrian",
   "metadata": {},
   "source": [
    "- $\\Longrightarrow$ Only two MWU tests reached significance, **even without multiple testing correction**.\n",
    "\n",
    "#### MWU p-values for ICD-10 ranges"
   ]
  },
  {
   "cell_type": "code",
   "execution_count": 9,
   "id": "hispanic-saint",
   "metadata": {},
   "outputs": [],
   "source": [
    "with open('data/icd10_range_to_description.json') as fp:\n",
    "    range_to_description = json.load(fp)"
   ]
  },
  {
   "cell_type": "code",
   "execution_count": 90,
   "id": "clear-relations",
   "metadata": {},
   "outputs": [
    {
     "data": {
      "text/html": [
       "<div>\n",
       "<style scoped>\n",
       "    .dataframe tbody tr th:only-of-type {\n",
       "        vertical-align: middle;\n",
       "    }\n",
       "\n",
       "    .dataframe tbody tr th {\n",
       "        vertical-align: top;\n",
       "    }\n",
       "\n",
       "    .dataframe thead th {\n",
       "        text-align: right;\n",
       "    }\n",
       "</style>\n",
       "<table border=\"1\" class=\"dataframe\">\n",
       "  <thead>\n",
       "    <tr style=\"text-align: right;\">\n",
       "      <th></th>\n",
       "      <th>range</th>\n",
       "      <th>distance_type</th>\n",
       "      <th>p_value</th>\n",
       "      <th>adjusted_p_value</th>\n",
       "    </tr>\n",
       "  </thead>\n",
       "  <tbody>\n",
       "    <tr>\n",
       "      <th>0</th>\n",
       "      <td>Range 136: Systemic connective tissue disorders</td>\n",
       "      <td>topology_only</td>\n",
       "      <td>0.037837</td>\n",
       "      <td>0.974376</td>\n",
       "    </tr>\n",
       "    <tr>\n",
       "      <th>1</th>\n",
       "      <td>Range 136: Systemic connective tissue disorders</td>\n",
       "      <td>normalized_ranks</td>\n",
       "      <td>0.016576</td>\n",
       "      <td>0.805640</td>\n",
       "    </tr>\n",
       "    <tr>\n",
       "      <th>2</th>\n",
       "      <td>Range 136: Systemic connective tissue disorders</td>\n",
       "      <td>normalized_scores</td>\n",
       "      <td>0.025386</td>\n",
       "      <td>0.917442</td>\n",
       "    </tr>\n",
       "    <tr>\n",
       "      <th>3</th>\n",
       "      <td>Range 74: Polyneuropathies and other disorders...</td>\n",
       "      <td>topology_only</td>\n",
       "      <td>0.048290</td>\n",
       "      <td>0.989978</td>\n",
       "    </tr>\n",
       "    <tr>\n",
       "      <th>4</th>\n",
       "      <td>Range 74: Polyneuropathies and other disorders...</td>\n",
       "      <td>normalized_ranks</td>\n",
       "      <td>0.022622</td>\n",
       "      <td>0.888830</td>\n",
       "    </tr>\n",
       "    <tr>\n",
       "      <th>5</th>\n",
       "      <td>Range 77: Other disorders of the nervous system</td>\n",
       "      <td>topology_only</td>\n",
       "      <td>0.005630</td>\n",
       "      <td>0.421686</td>\n",
       "    </tr>\n",
       "    <tr>\n",
       "      <th>6</th>\n",
       "      <td>Range 77: Other disorders of the nervous system</td>\n",
       "      <td>normalized_ranks</td>\n",
       "      <td>0.015769</td>\n",
       "      <td>0.792697</td>\n",
       "    </tr>\n",
       "    <tr>\n",
       "      <th>7</th>\n",
       "      <td>Range 49: Diabetes mellitus</td>\n",
       "      <td>topology_only</td>\n",
       "      <td>0.047238</td>\n",
       "      <td>0.989418</td>\n",
       "    </tr>\n",
       "    <tr>\n",
       "      <th>8</th>\n",
       "      <td>Range 49: Diabetes mellitus</td>\n",
       "      <td>normalized_scores</td>\n",
       "      <td>0.045166</td>\n",
       "      <td>0.988168</td>\n",
       "    </tr>\n",
       "    <tr>\n",
       "      <th>9</th>\n",
       "      <td>Range 67: Inflammatory diseases of the central...</td>\n",
       "      <td>topology_only</td>\n",
       "      <td>0.002954</td>\n",
       "      <td>0.251640</td>\n",
       "    </tr>\n",
       "    <tr>\n",
       "      <th>10</th>\n",
       "      <td>Range 180: Congenital malformations of eye, ea...</td>\n",
       "      <td>normalized_ranks</td>\n",
       "      <td>0.034125</td>\n",
       "      <td>0.961756</td>\n",
       "    </tr>\n",
       "    <tr>\n",
       "      <th>11</th>\n",
       "      <td>Range 41: Neoplasms of uncertain or unknown be...</td>\n",
       "      <td>normalized_ranks</td>\n",
       "      <td>0.046864</td>\n",
       "      <td>0.988481</td>\n",
       "    </tr>\n",
       "    <tr>\n",
       "      <th>12</th>\n",
       "      <td>Range 95: Hypertensive diseases</td>\n",
       "      <td>topology_only</td>\n",
       "      <td>0.001233</td>\n",
       "      <td>0.114991</td>\n",
       "    </tr>\n",
       "    <tr>\n",
       "      <th>13</th>\n",
       "      <td>Range 95: Hypertensive diseases</td>\n",
       "      <td>normalized_ranks</td>\n",
       "      <td>0.025237</td>\n",
       "      <td>0.911813</td>\n",
       "    </tr>\n",
       "    <tr>\n",
       "      <th>14</th>\n",
       "      <td>Range 95: Hypertensive diseases</td>\n",
       "      <td>normalized_scores</td>\n",
       "      <td>0.008466</td>\n",
       "      <td>0.565327</td>\n",
       "    </tr>\n",
       "    <tr>\n",
       "      <th>15</th>\n",
       "      <td>Range 120: Diseases of liver</td>\n",
       "      <td>topology_only</td>\n",
       "      <td>0.016136</td>\n",
       "      <td>0.790220</td>\n",
       "    </tr>\n",
       "    <tr>\n",
       "      <th>16</th>\n",
       "      <td>Range 120: Diseases of liver</td>\n",
       "      <td>normalized_ranks</td>\n",
       "      <td>0.018979</td>\n",
       "      <td>0.844116</td>\n",
       "    </tr>\n",
       "    <tr>\n",
       "      <th>17</th>\n",
       "      <td>Range 120: Diseases of liver</td>\n",
       "      <td>normalized_scores</td>\n",
       "      <td>0.008079</td>\n",
       "      <td>0.552028</td>\n",
       "    </tr>\n",
       "  </tbody>\n",
       "</table>\n",
       "</div>"
      ],
      "text/plain": [
       "                                                range      distance_type  \\\n",
       "0     Range 136: Systemic connective tissue disorders      topology_only   \n",
       "1     Range 136: Systemic connective tissue disorders   normalized_ranks   \n",
       "2     Range 136: Systemic connective tissue disorders  normalized_scores   \n",
       "3   Range 74: Polyneuropathies and other disorders...      topology_only   \n",
       "4   Range 74: Polyneuropathies and other disorders...   normalized_ranks   \n",
       "5     Range 77: Other disorders of the nervous system      topology_only   \n",
       "6     Range 77: Other disorders of the nervous system   normalized_ranks   \n",
       "7                         Range 49: Diabetes mellitus      topology_only   \n",
       "8                         Range 49: Diabetes mellitus  normalized_scores   \n",
       "9   Range 67: Inflammatory diseases of the central...      topology_only   \n",
       "10  Range 180: Congenital malformations of eye, ea...   normalized_ranks   \n",
       "11  Range 41: Neoplasms of uncertain or unknown be...   normalized_ranks   \n",
       "12                    Range 95: Hypertensive diseases      topology_only   \n",
       "13                    Range 95: Hypertensive diseases   normalized_ranks   \n",
       "14                    Range 95: Hypertensive diseases  normalized_scores   \n",
       "15                       Range 120: Diseases of liver      topology_only   \n",
       "16                       Range 120: Diseases of liver   normalized_ranks   \n",
       "17                       Range 120: Diseases of liver  normalized_scores   \n",
       "\n",
       "     p_value  adjusted_p_value  \n",
       "0   0.037837          0.974376  \n",
       "1   0.016576          0.805640  \n",
       "2   0.025386          0.917442  \n",
       "3   0.048290          0.989978  \n",
       "4   0.022622          0.888830  \n",
       "5   0.005630          0.421686  \n",
       "6   0.015769          0.792697  \n",
       "7   0.047238          0.989418  \n",
       "8   0.045166          0.988168  \n",
       "9   0.002954          0.251640  \n",
       "10  0.034125          0.961756  \n",
       "11  0.046864          0.988481  \n",
       "12  0.001233          0.114991  \n",
       "13  0.025237          0.911813  \n",
       "14  0.008466          0.565327  \n",
       "15  0.016136          0.790220  \n",
       "16  0.018979          0.844116  \n",
       "17  0.008079          0.552028  "
      ]
     },
     "execution_count": 90,
     "metadata": {},
     "output_type": "execute_result"
    }
   ],
   "source": [
    "mwu_p_values_ranges = pd.read_csv('results/EST_range_mwu_p_values.csv')\n",
    "significant_ranges = mwu_p_values_ranges[mwu_p_values_ranges['p_value'] < 0.05].reset_index(drop=True)\n",
    "significant_ranges['range'] = significant_ranges['range'].apply(lambda x: f'{x}: {range_to_description[x]}')\n",
    "significant_ranges"
   ]
  },
  {
   "cell_type": "markdown",
   "id": "alternative-theta",
   "metadata": {},
   "source": [
    "- **$\\Longrightarrow$ Without multiple testing correction**: Only four MWU and Wilcoxon tests reached significance.\n",
    "- **$\\Longrightarrow$ With multiple testing correction**: Not a single test reached significance."
   ]
  },
  {
   "cell_type": "markdown",
   "id": "minimal-atlanta",
   "metadata": {},
   "source": [
    "#### Numbers of diseases with and without empirical p-values < 0.001 (divided by ICD-10 chapter)"
   ]
  },
  {
   "cell_type": "code",
   "execution_count": 96,
   "id": "positive-bulgarian",
   "metadata": {},
   "outputs": [
    {
     "data": {
      "image/png": "[encoded data removed]",
      "text/plain": [
       "<Figure size 1873.25x1080 with 15 Axes>"
      ]
     },
     "metadata": {
      "needs_background": "light"
     },
     "output_type": "display_data"
    }
   ],
   "source": [
    "empirical_p_values = pd.read_csv('results/EST_disease_empirical_p_values.csv')\n",
    "with open('data/icd10_code_to_description.json') as fp:\n",
    "    code_to_description = json.load(fp)\n",
    "empirical_p_values['is_significant'] = empirical_p_values['p_value'] < 0.001\n",
    "fig = sns.catplot(data=empirical_p_values, x='distance_type', col='chapter', col_order=chapters, col_wrap=5, kind='count', hue='is_significant')\n",
    "adjust_titles(fig, 60)\n",
    "#display(empirical_p_values[empirical_p_values['is_significant'] & (empirical_p_values['chapter'] == 'Chapter 1')])"
   ]
  },
  {
   "cell_type": "markdown",
   "id": "explicit-poverty",
   "metadata": {},
   "source": [
    "#### Local distances for commROCG diseases"
   ]
  },
  {
   "cell_type": "code",
   "execution_count": 68,
   "id": "statewide-turning",
   "metadata": {},
   "outputs": [
    {
     "data": {
      "image/png": "[encoded data removed]",
      "text/plain": [
       "<Figure size 421.25x360 with 1 Axes>"
      ]
     },
     "metadata": {
      "needs_background": "light"
     },
     "output_type": "display_data"
    }
   ],
   "source": [
    "commrocg = set(pd.read_csv('data/commrocg.tsv', sep='\\t')['Code'])\n",
    "fig = sns.catplot(data=results[results['comparison'].isin(commrocg)], x='distance_type', y='distance', hue='permuted', kind='box')"
   ]
  },
  {
   "cell_type": "markdown",
   "id": "floppy-citizen",
   "metadata": {},
   "source": [
    "#### MWU p-values for commROCG diseases"
   ]
  },
  {
   "cell_type": "code",
   "execution_count": 15,
   "id": "cooked-asbestos",
   "metadata": {},
   "outputs": [
    {
     "data": {
      "text/html": [
       "<div>\n",
       "<style scoped>\n",
       "    .dataframe tbody tr th:only-of-type {\n",
       "        vertical-align: middle;\n",
       "    }\n",
       "\n",
       "    .dataframe tbody tr th {\n",
       "        vertical-align: top;\n",
       "    }\n",
       "\n",
       "    .dataframe thead th {\n",
       "        text-align: right;\n",
       "    }\n",
       "</style>\n",
       "<table border=\"1\" class=\"dataframe\">\n",
       "  <thead>\n",
       "    <tr style=\"text-align: right;\">\n",
       "      <th></th>\n",
       "      <th>distance_type</th>\n",
       "      <th>p_value</th>\n",
       "    </tr>\n",
       "  </thead>\n",
       "  <tbody>\n",
       "    <tr>\n",
       "      <th>0</th>\n",
       "      <td>topology_only</td>\n",
       "      <td>0.017460</td>\n",
       "    </tr>\n",
       "    <tr>\n",
       "      <th>1</th>\n",
       "      <td>normalized_ranks</td>\n",
       "      <td>0.110313</td>\n",
       "    </tr>\n",
       "    <tr>\n",
       "      <th>2</th>\n",
       "      <td>normalized_scores</td>\n",
       "      <td>0.024983</td>\n",
       "    </tr>\n",
       "  </tbody>\n",
       "</table>\n",
       "</div>"
      ],
      "text/plain": [
       "       distance_type   p_value\n",
       "0      topology_only  0.017460\n",
       "1   normalized_ranks  0.110313\n",
       "2  normalized_scores  0.024983"
      ]
     },
     "execution_count": 15,
     "metadata": {},
     "output_type": "execute_result"
    }
   ],
   "source": [
    "mwu_commrocg_p_values = pd.read_csv('results/EST_commrocg_mwu_p_values.csv')\n",
    "mwu_commrocg_p_values"
   ]
  },
  {
   "cell_type": "markdown",
   "id": "quiet-advice",
   "metadata": {},
   "source": [
    "#### Numbers of commROCG diseases with empirical p-value < 0.001"
   ]
  },
  {
   "cell_type": "code",
   "execution_count": 87,
   "id": "flexible-politics",
   "metadata": {},
   "outputs": [
    {
     "data": {
      "image/png": "[encoded data removed]",
      "text/plain": [
       "<Figure size 433.25x360 with 1 Axes>"
      ]
     },
     "metadata": {
      "needs_background": "light"
     },
     "output_type": "display_data"
    }
   ],
   "source": [
    "empirical_p_values_commrocg = empirical_p_values[empirical_p_values['disease'].isin(commrocg)].reset_index(drop=True)\n",
    "fig = sns.catplot(data=empirical_p_values_commrocg, x='distance_type', kind='count', hue='is_significant')"
   ]
  },
  {
   "cell_type": "markdown",
   "id": "vulnerable-monaco",
   "metadata": {},
   "source": [
    "#### Local distances for monogentic diseases"
   ]
  },
  {
   "cell_type": "code",
   "execution_count": 16,
   "id": "concerned-budapest",
   "metadata": {},
   "outputs": [
    {
     "data": {
      "text/plain": [
       "<seaborn.axisgrid.FacetGrid at 0x10ba04ca0>"
      ]
     },
     "execution_count": 16,
     "metadata": {},
     "output_type": "execute_result"
    },
    {
     "data": {
      "image/png": "[encoded data removed]",
      "text/plain": [
       "<Figure size 421.25x360 with 1 Axes>"
      ]
     },
     "metadata": {
      "needs_background": "light"
     },
     "output_type": "display_data"
    }
   ],
   "source": [
    "monogenetic = set(pd.read_csv('data/monogenetic.tsv', sep='\\t')['Code'])\n",
    "sns.catplot(data=results[results['comparison'].isin(monogenetic)], x='distance_type', y='distance', hue='permuted', kind='box')"
   ]
  },
  {
   "cell_type": "markdown",
   "id": "declared-traveler",
   "metadata": {},
   "source": [
    "#### MWU p-values for monogenetic diseases"
   ]
  },
  {
   "cell_type": "code",
   "execution_count": 17,
   "id": "stone-stevens",
   "metadata": {},
   "outputs": [
    {
     "data": {
      "text/html": [
       "<div>\n",
       "<style scoped>\n",
       "    .dataframe tbody tr th:only-of-type {\n",
       "        vertical-align: middle;\n",
       "    }\n",
       "\n",
       "    .dataframe tbody tr th {\n",
       "        vertical-align: top;\n",
       "    }\n",
       "\n",
       "    .dataframe thead th {\n",
       "        text-align: right;\n",
       "    }\n",
       "</style>\n",
       "<table border=\"1\" class=\"dataframe\">\n",
       "  <thead>\n",
       "    <tr style=\"text-align: right;\">\n",
       "      <th></th>\n",
       "      <th>distance_type</th>\n",
       "      <th>p_value</th>\n",
       "    </tr>\n",
       "  </thead>\n",
       "  <tbody>\n",
       "    <tr>\n",
       "      <th>0</th>\n",
       "      <td>topology_only</td>\n",
       "      <td>0.188763</td>\n",
       "    </tr>\n",
       "    <tr>\n",
       "      <th>1</th>\n",
       "      <td>normalized_ranks</td>\n",
       "      <td>0.077804</td>\n",
       "    </tr>\n",
       "    <tr>\n",
       "      <th>2</th>\n",
       "      <td>normalized_scores</td>\n",
       "      <td>0.123704</td>\n",
       "    </tr>\n",
       "  </tbody>\n",
       "</table>\n",
       "</div>"
      ],
      "text/plain": [
       "       distance_type   p_value\n",
       "0      topology_only  0.188763\n",
       "1   normalized_ranks  0.077804\n",
       "2  normalized_scores  0.123704"
      ]
     },
     "execution_count": 17,
     "metadata": {},
     "output_type": "execute_result"
    }
   ],
   "source": [
    "mwu_monogenetic_p_values = pd.read_csv('results/EST_monogenetic_mwu_p_values.csv')\n",
    "mwu_monogenetic_p_values"
   ]
  },
  {
   "cell_type": "markdown",
   "id": "accepted-blackjack",
   "metadata": {},
   "source": [
    "#### Numbers of monogenetic diseases with empirical p-value < 0.001"
   ]
  },
  {
   "cell_type": "code",
   "execution_count": 88,
   "id": "ignored-ukraine",
   "metadata": {},
   "outputs": [
    {
     "data": {
      "image/png": "[encoded data removed]",
      "text/plain": [
       "<Figure size 433.25x360 with 1 Axes>"
      ]
     },
     "metadata": {
      "needs_background": "light"
     },
     "output_type": "display_data"
    }
   ],
   "source": [
    "empirical_p_values_monogenetic = empirical_p_values[empirical_p_values['disease'].isin(monogenetic)].reset_index(drop=True)\n",
    "fig = sns.catplot(data=empirical_p_values_monogenetic, x='distance_type', kind='count', hue='is_significant')"
   ]
  },
  {
   "cell_type": "markdown",
   "id": "mechanical-internship",
   "metadata": {},
   "source": [
    "**$\\Longrightarrow$ Again, nothing is significant.**"
   ]
  },
  {
   "cell_type": "markdown",
   "id": "statewide-saturday",
   "metadata": {},
   "source": [
    "## Conclusions\n",
    "\n",
    "- Globally, there seems to be a non-random correlation between the two diseasomes.\n",
    "- But the evidence for this claim is very weak, and as soon as we zoom-in and increase the resolution, the results no longer support it (I did not even correct for multiple testing when computing the disease-specific empirical $p$-values). \n",
    "- **$\\Longrightarrow$ The local neighborhoods of individual diseases are not significantly more similar for the two diseasomes than for random networks with the same node degrees.**\n",
    "- I see three possible explanations:\n",
    "  - Poor quality of gene-based diseasome.\n",
    "  - Poor quality of comorbidity-based diseasome.\n",
    "  - **Poor disease ontology**.\n",
    "  - **Quality gets lost during disease ID mapping**."
   ]
  },
  {
   "cell_type": "markdown",
   "id": "solar-snowboard",
   "metadata": {},
   "source": [
    "## Next steps\n",
    "\n",
    "- Re-run the tests with $n=100000$ permutations such that we can compute meaningful adjusted $p$-values for the individual diseases.\n",
    "- Enough for a short paper?\n",
    "- If so, where shall we submit? Maybe Scientific Reports or NPJ Systems Biology and Applications?\n",
    "- If not, what shall we add?"
   ]
  },
  {
   "cell_type": "code",
   "execution_count": 13,
   "id": "regulation-insertion",
   "metadata": {},
   "outputs": [
    {
     "data": {
      "text/html": [
       "<div>\n",
       "<style scoped>\n",
       "    .dataframe tbody tr th:only-of-type {\n",
       "        vertical-align: middle;\n",
       "    }\n",
       "\n",
       "    .dataframe tbody tr th {\n",
       "        vertical-align: top;\n",
       "    }\n",
       "\n",
       "    .dataframe thead th {\n",
       "        text-align: right;\n",
       "    }\n",
       "</style>\n",
       "<table border=\"1\" class=\"dataframe\">\n",
       "  <thead>\n",
       "    <tr style=\"text-align: right;\">\n",
       "      <th></th>\n",
       "      <th>permuted</th>\n",
       "      <th>comparison</th>\n",
       "      <th>distance</th>\n",
       "      <th>distance_type</th>\n",
       "      <th>chapter</th>\n",
       "      <th>range</th>\n",
       "    </tr>\n",
       "  </thead>\n",
       "  <tbody>\n",
       "    <tr>\n",
       "      <th>331</th>\n",
       "      <td>False</td>\n",
       "      <td>G35</td>\n",
       "      <td>326.000000</td>\n",
       "      <td>topology_only</td>\n",
       "      <td>Chapter 6</td>\n",
       "      <td>Range 71</td>\n",
       "    </tr>\n",
       "    <tr>\n",
       "      <th>1338</th>\n",
       "      <td>False</td>\n",
       "      <td>G35</td>\n",
       "      <td>359.314092</td>\n",
       "      <td>normalized_scores</td>\n",
       "      <td>Chapter 6</td>\n",
       "      <td>Range 71</td>\n",
       "    </tr>\n",
       "    <tr>\n",
       "      <th>2345</th>\n",
       "      <td>False</td>\n",
       "      <td>G35</td>\n",
       "      <td>512.489462</td>\n",
       "      <td>normalized_ranks</td>\n",
       "      <td>Chapter 6</td>\n",
       "      <td>Range 71</td>\n",
       "    </tr>\n",
       "    <tr>\n",
       "      <th>3352</th>\n",
       "      <td>True</td>\n",
       "      <td>G35</td>\n",
       "      <td>316.000000</td>\n",
       "      <td>topology_only</td>\n",
       "      <td>Chapter 6</td>\n",
       "      <td>Range 71</td>\n",
       "    </tr>\n",
       "    <tr>\n",
       "      <th>4359</th>\n",
       "      <td>True</td>\n",
       "      <td>G35</td>\n",
       "      <td>331.851222</td>\n",
       "      <td>normalized_scores</td>\n",
       "      <td>Chapter 6</td>\n",
       "      <td>Range 71</td>\n",
       "    </tr>\n",
       "    <tr>\n",
       "      <th>...</th>\n",
       "      <td>...</td>\n",
       "      <td>...</td>\n",
       "      <td>...</td>\n",
       "      <td>...</td>\n",
       "      <td>...</td>\n",
       "      <td>...</td>\n",
       "    </tr>\n",
       "    <tr>\n",
       "      <th>3019317</th>\n",
       "      <td>True</td>\n",
       "      <td>G35</td>\n",
       "      <td>339.679114</td>\n",
       "      <td>normalized_scores</td>\n",
       "      <td>Chapter 6</td>\n",
       "      <td>Range 71</td>\n",
       "    </tr>\n",
       "    <tr>\n",
       "      <th>3020324</th>\n",
       "      <td>True</td>\n",
       "      <td>G35</td>\n",
       "      <td>486.157922</td>\n",
       "      <td>normalized_ranks</td>\n",
       "      <td>Chapter 6</td>\n",
       "      <td>Range 71</td>\n",
       "    </tr>\n",
       "    <tr>\n",
       "      <th>3021331</th>\n",
       "      <td>True</td>\n",
       "      <td>G35</td>\n",
       "      <td>314.000000</td>\n",
       "      <td>topology_only</td>\n",
       "      <td>Chapter 6</td>\n",
       "      <td>Range 71</td>\n",
       "    </tr>\n",
       "    <tr>\n",
       "      <th>3022338</th>\n",
       "      <td>True</td>\n",
       "      <td>G35</td>\n",
       "      <td>326.422153</td>\n",
       "      <td>normalized_scores</td>\n",
       "      <td>Chapter 6</td>\n",
       "      <td>Range 71</td>\n",
       "    </tr>\n",
       "    <tr>\n",
       "      <th>3023345</th>\n",
       "      <td>True</td>\n",
       "      <td>G35</td>\n",
       "      <td>475.589472</td>\n",
       "      <td>normalized_ranks</td>\n",
       "      <td>Chapter 6</td>\n",
       "      <td>Range 71</td>\n",
       "    </tr>\n",
       "  </tbody>\n",
       "</table>\n",
       "<p>3003 rows × 6 columns</p>\n",
       "</div>"
      ],
      "text/plain": [
       "         permuted comparison    distance      distance_type    chapter  \\\n",
       "331         False        G35  326.000000      topology_only  Chapter 6   \n",
       "1338        False        G35  359.314092  normalized_scores  Chapter 6   \n",
       "2345        False        G35  512.489462   normalized_ranks  Chapter 6   \n",
       "3352         True        G35  316.000000      topology_only  Chapter 6   \n",
       "4359         True        G35  331.851222  normalized_scores  Chapter 6   \n",
       "...           ...        ...         ...                ...        ...   \n",
       "3019317      True        G35  339.679114  normalized_scores  Chapter 6   \n",
       "3020324      True        G35  486.157922   normalized_ranks  Chapter 6   \n",
       "3021331      True        G35  314.000000      topology_only  Chapter 6   \n",
       "3022338      True        G35  326.422153  normalized_scores  Chapter 6   \n",
       "3023345      True        G35  475.589472   normalized_ranks  Chapter 6   \n",
       "\n",
       "            range  \n",
       "331      Range 71  \n",
       "1338     Range 71  \n",
       "2345     Range 71  \n",
       "3352     Range 71  \n",
       "4359     Range 71  \n",
       "...           ...  \n",
       "3019317  Range 71  \n",
       "3020324  Range 71  \n",
       "3021331  Range 71  \n",
       "3022338  Range 71  \n",
       "3023345  Range 71  \n",
       "\n",
       "[3003 rows x 6 columns]"
      ]
     },
     "execution_count": 13,
     "metadata": {},
     "output_type": "execute_result"
    }
   ],
   "source": [
    "results[results['comparison'] == 'G35']"
   ]
  }
 ],
 "metadata": {
  "kernelspec": {
   "display_name": "diseasomes",
   "language": "python",
   "name": "diseasomes"
  },
  "language_info": {
   "codemirror_mode": {
    "name": "ipython",
    "version": 3
   },
   "file_extension": ".py",
   "mimetype": "text/x-python",
   "name": "python",
   "nbconvert_exporter": "python",
   "pygments_lexer": "ipython3",
   "version": "3.9.2"
  }
 },
 "nbformat": 4,
 "nbformat_minor": 5
}
